{
 "cells": [
  {
   "cell_type": "markdown",
   "metadata": {},
   "source": [
    "1. Import Libraries and Data</br>\n",
    "Let's start with importing libraries, reading a file with data to a Pandas Dataframe and cheking basic information about data."
   ]
  },
  {
   "cell_type": "code",
   "execution_count": 25,
   "metadata": {},
   "outputs": [],
   "source": [
    "import pandas as pd\n",
    "import numpy as np\n",
    "import matplotlib.pyplot as plt\n",
    "import seaborn as sns\n",
    "\n",
    "%matplotlib inline\n",
    "sns.set()"
   ]
  },
  {
   "cell_type": "code",
   "execution_count": 26,
   "metadata": {},
   "outputs": [],
   "source": [
    "df = pd.read_csv('beer_reviews.csv')"
   ]
  },
  {
   "cell_type": "markdown",
   "metadata": {},
   "source": [
    "2. Some summary statistic about dataset"
   ]
  },
  {
   "cell_type": "code",
   "execution_count": 28,
   "metadata": {},
   "outputs": [
    {
     "data": {
      "text/html": [
       "<div>\n",
       "<style scoped>\n",
       "    .dataframe tbody tr th:only-of-type {\n",
       "        vertical-align: middle;\n",
       "    }\n",
       "\n",
       "    .dataframe tbody tr th {\n",
       "        vertical-align: top;\n",
       "    }\n",
       "\n",
       "    .dataframe thead th {\n",
       "        text-align: right;\n",
       "    }\n",
       "</style>\n",
       "<table border=\"1\" class=\"dataframe\">\n",
       "  <thead>\n",
       "    <tr style=\"text-align: right;\">\n",
       "      <th></th>\n",
       "      <th>brewery_id</th>\n",
       "      <th>brewery_name</th>\n",
       "      <th>review_time</th>\n",
       "      <th>review_overall</th>\n",
       "      <th>review_aroma</th>\n",
       "      <th>review_appearance</th>\n",
       "      <th>review_profilename</th>\n",
       "      <th>beer_style</th>\n",
       "      <th>review_palate</th>\n",
       "      <th>review_taste</th>\n",
       "      <th>beer_name</th>\n",
       "      <th>beer_abv</th>\n",
       "      <th>beer_beerid</th>\n",
       "    </tr>\n",
       "  </thead>\n",
       "  <tbody>\n",
       "    <tr>\n",
       "      <th>0</th>\n",
       "      <td>10325</td>\n",
       "      <td>Vecchio Birraio</td>\n",
       "      <td>1234817823</td>\n",
       "      <td>1.5</td>\n",
       "      <td>2.0</td>\n",
       "      <td>2.5</td>\n",
       "      <td>stcules</td>\n",
       "      <td>Hefeweizen</td>\n",
       "      <td>1.5</td>\n",
       "      <td>1.5</td>\n",
       "      <td>Sausa Weizen</td>\n",
       "      <td>5.0</td>\n",
       "      <td>47986</td>\n",
       "    </tr>\n",
       "    <tr>\n",
       "      <th>1</th>\n",
       "      <td>10325</td>\n",
       "      <td>Vecchio Birraio</td>\n",
       "      <td>1235915097</td>\n",
       "      <td>3.0</td>\n",
       "      <td>2.5</td>\n",
       "      <td>3.0</td>\n",
       "      <td>stcules</td>\n",
       "      <td>English Strong Ale</td>\n",
       "      <td>3.0</td>\n",
       "      <td>3.0</td>\n",
       "      <td>Red Moon</td>\n",
       "      <td>6.2</td>\n",
       "      <td>48213</td>\n",
       "    </tr>\n",
       "    <tr>\n",
       "      <th>2</th>\n",
       "      <td>10325</td>\n",
       "      <td>Vecchio Birraio</td>\n",
       "      <td>1235916604</td>\n",
       "      <td>3.0</td>\n",
       "      <td>2.5</td>\n",
       "      <td>3.0</td>\n",
       "      <td>stcules</td>\n",
       "      <td>Foreign / Export Stout</td>\n",
       "      <td>3.0</td>\n",
       "      <td>3.0</td>\n",
       "      <td>Black Horse Black Beer</td>\n",
       "      <td>6.5</td>\n",
       "      <td>48215</td>\n",
       "    </tr>\n",
       "    <tr>\n",
       "      <th>3</th>\n",
       "      <td>10325</td>\n",
       "      <td>Vecchio Birraio</td>\n",
       "      <td>1234725145</td>\n",
       "      <td>3.0</td>\n",
       "      <td>3.0</td>\n",
       "      <td>3.5</td>\n",
       "      <td>stcules</td>\n",
       "      <td>German Pilsener</td>\n",
       "      <td>2.5</td>\n",
       "      <td>3.0</td>\n",
       "      <td>Sausa Pils</td>\n",
       "      <td>5.0</td>\n",
       "      <td>47969</td>\n",
       "    </tr>\n",
       "    <tr>\n",
       "      <th>4</th>\n",
       "      <td>1075</td>\n",
       "      <td>Caldera Brewing Company</td>\n",
       "      <td>1293735206</td>\n",
       "      <td>4.0</td>\n",
       "      <td>4.5</td>\n",
       "      <td>4.0</td>\n",
       "      <td>johnmichaelsen</td>\n",
       "      <td>American Double / Imperial IPA</td>\n",
       "      <td>4.0</td>\n",
       "      <td>4.5</td>\n",
       "      <td>Cauldron DIPA</td>\n",
       "      <td>7.7</td>\n",
       "      <td>64883</td>\n",
       "    </tr>\n",
       "  </tbody>\n",
       "</table>\n",
       "</div>"
      ],
      "text/plain": [
       "   brewery_id             brewery_name  review_time  review_overall  \\\n",
       "0       10325          Vecchio Birraio   1234817823             1.5   \n",
       "1       10325          Vecchio Birraio   1235915097             3.0   \n",
       "2       10325          Vecchio Birraio   1235916604             3.0   \n",
       "3       10325          Vecchio Birraio   1234725145             3.0   \n",
       "4        1075  Caldera Brewing Company   1293735206             4.0   \n",
       "\n",
       "   review_aroma  review_appearance review_profilename  \\\n",
       "0           2.0                2.5            stcules   \n",
       "1           2.5                3.0            stcules   \n",
       "2           2.5                3.0            stcules   \n",
       "3           3.0                3.5            stcules   \n",
       "4           4.5                4.0     johnmichaelsen   \n",
       "\n",
       "                       beer_style  review_palate  review_taste  \\\n",
       "0                      Hefeweizen            1.5           1.5   \n",
       "1              English Strong Ale            3.0           3.0   \n",
       "2          Foreign / Export Stout            3.0           3.0   \n",
       "3                 German Pilsener            2.5           3.0   \n",
       "4  American Double / Imperial IPA            4.0           4.5   \n",
       "\n",
       "                beer_name  beer_abv  beer_beerid  \n",
       "0            Sausa Weizen       5.0        47986  \n",
       "1                Red Moon       6.2        48213  \n",
       "2  Black Horse Black Beer       6.5        48215  \n",
       "3              Sausa Pils       5.0        47969  \n",
       "4           Cauldron DIPA       7.7        64883  "
      ]
     },
     "execution_count": 28,
     "metadata": {},
     "output_type": "execute_result"
    }
   ],
   "source": [
    "df.head()"
   ]
  },
  {
   "cell_type": "code",
   "execution_count": 27,
   "metadata": {},
   "outputs": [
    {
     "name": "stdout",
     "output_type": "stream",
     "text": [
      "<class 'pandas.core.frame.DataFrame'>\n",
      "RangeIndex: 1586614 entries, 0 to 1586613\n",
      "Data columns (total 13 columns):\n",
      "brewery_id            1586614 non-null int64\n",
      "brewery_name          1586599 non-null object\n",
      "review_time           1586614 non-null int64\n",
      "review_overall        1586614 non-null float64\n",
      "review_aroma          1586614 non-null float64\n",
      "review_appearance     1586614 non-null float64\n",
      "review_profilename    1586266 non-null object\n",
      "beer_style            1586614 non-null object\n",
      "review_palate         1586614 non-null float64\n",
      "review_taste          1586614 non-null float64\n",
      "beer_name             1586614 non-null object\n",
      "beer_abv              1518829 non-null float64\n",
      "beer_beerid           1586614 non-null int64\n",
      "dtypes: float64(6), int64(3), object(4)\n",
      "memory usage: 157.4+ MB\n"
     ]
    }
   ],
   "source": [
    "df.info()"
   ]
  },
  {
   "cell_type": "markdown",
   "metadata": {},
   "source": [
    "The dataset consists of 1586614 entries, each entry is one review and shows what users think about such beer features as taste, appearance, aroma, palate, and overall impression. \n",
    "The dataset looks pretty good, but there are missing values in Brewery_name, Review_profilename, and Beer_abv columns."
   ]
  },
  {
   "cell_type": "code",
   "execution_count": 29,
   "metadata": {},
   "outputs": [
    {
     "name": "stdout",
     "output_type": "stream",
     "text": [
      "Number of breweries:  5840\n",
      "Number of beers:  66055\n",
      "Number of beer styles:  104\n",
      "Average overall impression:  3.8155808533140387\n"
     ]
    }
   ],
   "source": [
    "print('Number of breweries: ',df['brewery_id'].nunique())\n",
    "print('Number of beers: ', df['beer_beerid'].nunique())\n",
    "print('Number of beer styles: ', df['beer_style'].nunique())\n",
    "print('Average overall impression: ', df['review_overall'].mean())"
   ]
  },
  {
   "cell_type": "markdown",
   "metadata": {},
   "source": [
    "3. Work with missing data"
   ]
  },
  {
   "cell_type": "code",
   "execution_count": 35,
   "metadata": {},
   "outputs": [
    {
     "data": {
      "text/plain": [
       "(15, 13)"
      ]
     },
     "execution_count": 35,
     "metadata": {},
     "output_type": "execute_result"
    }
   ],
   "source": [
    "# let's look at missing values in Brewery_name column: there are 15 entries about 2 breweries\n",
    "# If brewery_name will be important further, then just replace NaN with \"Missing brewery 1\" and \"Missing brewery 2\"\n",
    "df[pd.isna(df['brewery_name'])].shape"
   ]
  },
  {
   "cell_type": "code",
   "execution_count": 36,
   "metadata": {},
   "outputs": [
    {
     "data": {
      "text/plain": [
       "(348, 13)"
      ]
     },
     "execution_count": 36,
     "metadata": {},
     "output_type": "execute_result"
    }
   ],
   "source": [
    "# Missing values in Review_profilename: 348 entries\n",
    "df[pd.isna(df['review_profilename'])].shape"
   ]
  },
  {
   "cell_type": "markdown",
   "metadata": {},
   "source": [
    "Missing values in Brewery_name and Review_profilename don't look important for now, but missing value for Beer_abv might be more interesting to work with. \n",
    "First thing that comes to my ming is to look is there are reviews for the same beers but with actual value for abv."
   ]
  },
  {
   "cell_type": "code",
   "execution_count": 42,
   "metadata": {},
   "outputs": [
    {
     "data": {
      "text/plain": [
       "(0, 13)"
      ]
     },
     "execution_count": 42,
     "metadata": {},
     "output_type": "execute_result"
    }
   ],
   "source": [
    "#Missing values in Beer_abv: 67785 entries\n",
    "miss = df[pd.isna(df['beer_abv'])]\n",
    "\n",
    "#We could try and find abv for them inother reviews\n",
    "miss_beerid = miss['beer_beerid'].unique().tolist()\n",
    "\n",
    "#Let's look through all dataset and try to find reviews for this beers with not missing abv\n",
    "xx = df[(df['beer_beerid'].isin(miss_beerid)) & (~df['beer_abv'].isnull())]\n",
    "xx.shape"
   ]
  },
  {
   "cell_type": "markdown",
   "metadata": {},
   "source": [
    "Ok, there is not any other review for any of this beers with nonmissing abv\n",
    "Let's try another thing: calculate mean/median abv for beerstyle and fill missing values, but first let's look at Beer_abv distribution to decide what statistic to use"
   ]
  },
  {
   "cell_type": "code",
   "execution_count": 43,
   "metadata": {},
   "outputs": [
    {
     "data": {
      "image/png": "[encoded data removed]",
      "text/plain": [
       "<Figure size 432x288 with 1 Axes>"
      ]
     },
     "metadata": {},
     "output_type": "display_data"
    }
   ],
   "source": [
    "sns.boxplot(x=df['beer_abv'])\n",
    "plt.title('Beer - Alcohol by Volume (%)')\n",
    "plt.show()"
   ]
  },
  {
   "cell_type": "markdown",
   "metadata": {},
   "source": [
    "As we can see from boxplot average abv for all beerstyles is 7%, and there are enough beers with really high abv that could count as outliers and affect average value, that's why I will use median value for each beer style to fill missing values."
   ]
  },
  {
   "cell_type": "code",
   "execution_count": 44,
   "metadata": {},
   "outputs": [],
   "source": [
    "# Fill the missing values with median\n",
    "df['beer_abv'] = df.groupby(['beer_style']).transform(lambda x: x.fillna(x.median()))"
   ]
  },
  {
   "cell_type": "markdown",
   "metadata": {},
   "source": [
    "4. Univariate analysis</br>\n",
    "Let's look at how users evaluated beer"
   ]
  },
  {
   "cell_type": "code",
   "execution_count": null,
   "metadata": {},
   "outputs": [],
   "source": [
    "plt.figure(figsize=(12,7))\n",
    "\n",
    "#Draw first suplot\n",
    "plt.subplot(151)\n",
    "sns.distplot(df['review_overall'], kde=False)\n",
    "plt.title(\"\")\n",
    "plt.xlabel(\"Gender\")\n",
    "plt.ylabel(\"Number of answers\")\n",
    "plt.xticks(rotation=50)\n",
    "\n",
    "#Draw second subplot    \n",
    "plt.subplot(152)\n",
    "sns.countplot(x=students['Q1'], data=students, order=students['Q1'].value_counts().index)\n",
    "plt.title(\"Gender (Students)\")\n",
    "plt.xlabel(\"Gender\")\n",
    "plt.ylabel(\"Number of answers\")\n",
    "plt.xticks(rotation=50)\n",
    "\n",
    "plt.tight_layout()\n",
    "plt.show()"
   ]
  },
  {
   "cell_type": "code",
   "execution_count": 58,
   "metadata": {},
   "outputs": [
    {
     "data": {
      "text/plain": [
       "(array([7.00000e+00, 0.00000e+00, 1.09540e+04, 1.29750e+04, 3.82250e+04,\n",
       "        5.85230e+04, 1.65644e+05, 3.01817e+05, 5.82764e+05, 4.15705e+05]),\n",
       " array([0. , 0.5, 1. , 1.5, 2. , 2.5, 3. , 3.5, 4. , 4.5, 5. ]),\n",
       " <a list of 10 Patch objects>)"
      ]
     },
     "execution_count": 58,
     "metadata": {},
     "output_type": "execute_result"
    },
    {
     "data": {
      "image/png": "[encoded data removed]",
      "text/plain": [
       "<Figure size 432x288 with 1 Axes>"
      ]
     },
     "metadata": {},
     "output_type": "display_data"
    }
   ],
   "source": [
    "plt.hist(df['review_overall'])"
   ]
  },
  {
   "cell_type": "code",
   "execution_count": 57,
   "metadata": {},
   "outputs": [
    {
     "data": {
      "image/png": "[encoded data removed]",
      "text/plain": [
       "<Figure size 432x288 with 1 Axes>"
      ]
     },
     "metadata": {},
     "output_type": "display_data"
    }
   ],
   "source": [
    "sns.distplot(df['review_overall'], kde=False)\n",
    "plt.title(\"Distribution of overall scores\")\n",
    "plt.show()"
   ]
  },
  {
   "cell_type": "code",
   "execution_count": 20,
   "metadata": {},
   "outputs": [
    {
     "data": {
      "text/html": [
       "<div>\n",
       "<style scoped>\n",
       "    .dataframe tbody tr th:only-of-type {\n",
       "        vertical-align: middle;\n",
       "    }\n",
       "\n",
       "    .dataframe tbody tr th {\n",
       "        vertical-align: top;\n",
       "    }\n",
       "\n",
       "    .dataframe thead th {\n",
       "        text-align: right;\n",
       "    }\n",
       "</style>\n",
       "<table border=\"1\" class=\"dataframe\">\n",
       "  <thead>\n",
       "    <tr style=\"text-align: right;\">\n",
       "      <th></th>\n",
       "      <th>brewery_id</th>\n",
       "      <th>brewery_name</th>\n",
       "      <th>review_time</th>\n",
       "      <th>review_overall</th>\n",
       "      <th>review_aroma</th>\n",
       "      <th>review_appearance</th>\n",
       "      <th>review_profilename</th>\n",
       "      <th>beer_style</th>\n",
       "      <th>review_palate</th>\n",
       "      <th>review_taste</th>\n",
       "      <th>beer_name</th>\n",
       "      <th>beer_abv</th>\n",
       "      <th>beer_beerid</th>\n",
       "    </tr>\n",
       "  </thead>\n",
       "  <tbody>\n",
       "    <tr>\n",
       "      <th>0</th>\n",
       "      <td>10325</td>\n",
       "      <td>Vecchio Birraio</td>\n",
       "      <td>1234817823</td>\n",
       "      <td>1.5</td>\n",
       "      <td>2.0</td>\n",
       "      <td>2.5</td>\n",
       "      <td>stcules</td>\n",
       "      <td>Hefeweizen</td>\n",
       "      <td>1.5</td>\n",
       "      <td>1.5</td>\n",
       "      <td>Sausa Weizen</td>\n",
       "      <td>10325.0</td>\n",
       "      <td>47986</td>\n",
       "    </tr>\n",
       "    <tr>\n",
       "      <th>328</th>\n",
       "      <td>1075</td>\n",
       "      <td>Caldera Brewing Company</td>\n",
       "      <td>1267230079</td>\n",
       "      <td>1.0</td>\n",
       "      <td>1.5</td>\n",
       "      <td>1.0</td>\n",
       "      <td>kevinmkirk</td>\n",
       "      <td>American Adjunct Lager</td>\n",
       "      <td>1.0</td>\n",
       "      <td>1.0</td>\n",
       "      <td>Lawnmower Lager</td>\n",
       "      <td>1075.0</td>\n",
       "      <td>20817</td>\n",
       "    </tr>\n",
       "    <tr>\n",
       "      <th>332</th>\n",
       "      <td>1075</td>\n",
       "      <td>Caldera Brewing Company</td>\n",
       "      <td>1313491119</td>\n",
       "      <td>1.5</td>\n",
       "      <td>2.0</td>\n",
       "      <td>3.0</td>\n",
       "      <td>jmarsh123</td>\n",
       "      <td>American Blonde Ale</td>\n",
       "      <td>2.0</td>\n",
       "      <td>1.5</td>\n",
       "      <td>Caldera Rose Petal (Kettle Series)</td>\n",
       "      <td>1075.0</td>\n",
       "      <td>61427</td>\n",
       "    </tr>\n",
       "    <tr>\n",
       "      <th>334</th>\n",
       "      <td>1075</td>\n",
       "      <td>Caldera Brewing Company</td>\n",
       "      <td>1310388796</td>\n",
       "      <td>1.5</td>\n",
       "      <td>1.5</td>\n",
       "      <td>3.0</td>\n",
       "      <td>TheGordianKnot</td>\n",
       "      <td>American Blonde Ale</td>\n",
       "      <td>2.0</td>\n",
       "      <td>1.5</td>\n",
       "      <td>Caldera Rose Petal (Kettle Series)</td>\n",
       "      <td>1075.0</td>\n",
       "      <td>61427</td>\n",
       "    </tr>\n",
       "    <tr>\n",
       "      <th>462</th>\n",
       "      <td>1075</td>\n",
       "      <td>Caldera Brewing Company</td>\n",
       "      <td>1268415775</td>\n",
       "      <td>1.0</td>\n",
       "      <td>4.0</td>\n",
       "      <td>4.0</td>\n",
       "      <td>ShadesOfGray</td>\n",
       "      <td>American IPA</td>\n",
       "      <td>2.0</td>\n",
       "      <td>2.0</td>\n",
       "      <td>Caldera IPA</td>\n",
       "      <td>1075.0</td>\n",
       "      <td>10784</td>\n",
       "    </tr>\n",
       "  </tbody>\n",
       "</table>\n",
       "</div>"
      ],
      "text/plain": [
       "     brewery_id             brewery_name  review_time  review_overall  \\\n",
       "0         10325          Vecchio Birraio   1234817823             1.5   \n",
       "328        1075  Caldera Brewing Company   1267230079             1.0   \n",
       "332        1075  Caldera Brewing Company   1313491119             1.5   \n",
       "334        1075  Caldera Brewing Company   1310388796             1.5   \n",
       "462        1075  Caldera Brewing Company   1268415775             1.0   \n",
       "\n",
       "     review_aroma  review_appearance review_profilename  \\\n",
       "0             2.0                2.5            stcules   \n",
       "328           1.5                1.0         kevinmkirk   \n",
       "332           2.0                3.0          jmarsh123   \n",
       "334           1.5                3.0     TheGordianKnot   \n",
       "462           4.0                4.0       ShadesOfGray   \n",
       "\n",
       "                 beer_style  review_palate  review_taste  \\\n",
       "0                Hefeweizen            1.5           1.5   \n",
       "328  American Adjunct Lager            1.0           1.0   \n",
       "332     American Blonde Ale            2.0           1.5   \n",
       "334     American Blonde Ale            2.0           1.5   \n",
       "462            American IPA            2.0           2.0   \n",
       "\n",
       "                              beer_name  beer_abv  beer_beerid  \n",
       "0                          Sausa Weizen   10325.0        47986  \n",
       "328                     Lawnmower Lager    1075.0        20817  \n",
       "332  Caldera Rose Petal (Kettle Series)    1075.0        61427  \n",
       "334  Caldera Rose Petal (Kettle Series)    1075.0        61427  \n",
       "462                         Caldera IPA    1075.0        10784  "
      ]
     },
     "execution_count": 20,
     "metadata": {},
     "output_type": "execute_result"
    }
   ],
   "source": [
    "#The distribution of overall scores is skewed, also there are outliers, let's look at reviews with overall review less than 2\n",
    "df[df['review_overall'] < 2].head()\n",
    "#Maybe look at worst breweries/styles/beers ?"
   ]
  },
  {
   "cell_type": "code",
   "execution_count": 17,
   "metadata": {},
   "outputs": [],
   "source": [
    "#The most/least liked beers (by review_overall)"
   ]
  },
  {
   "cell_type": "code",
   "execution_count": 57,
   "metadata": {},
   "outputs": [
    {
     "data": {
      "text/html": [
       "<div>\n",
       "<style scoped>\n",
       "    .dataframe tbody tr th:only-of-type {\n",
       "        vertical-align: middle;\n",
       "    }\n",
       "\n",
       "    .dataframe tbody tr th {\n",
       "        vertical-align: top;\n",
       "    }\n",
       "\n",
       "    .dataframe thead th {\n",
       "        text-align: right;\n",
       "    }\n",
       "</style>\n",
       "<table border=\"1\" class=\"dataframe\">\n",
       "  <thead>\n",
       "    <tr style=\"text-align: right;\">\n",
       "      <th></th>\n",
       "      <th>beer_style</th>\n",
       "      <th>review_overall</th>\n",
       "      <th>review_aroma</th>\n",
       "      <th>review_appearance</th>\n",
       "      <th>review_palate</th>\n",
       "      <th>review_taste</th>\n",
       "    </tr>\n",
       "  </thead>\n",
       "  <tbody>\n",
       "    <tr>\n",
       "      <th>0</th>\n",
       "      <td>Altbier</td>\n",
       "      <td>3.824054</td>\n",
       "      <td>3.624015</td>\n",
       "      <td>3.809327</td>\n",
       "      <td>3.713086</td>\n",
       "      <td>3.744865</td>\n",
       "    </tr>\n",
       "    <tr>\n",
       "      <th>1</th>\n",
       "      <td>American Adjunct Lager</td>\n",
       "      <td>3.001659</td>\n",
       "      <td>2.480211</td>\n",
       "      <td>2.788546</td>\n",
       "      <td>2.735471</td>\n",
       "      <td>2.683112</td>\n",
       "    </tr>\n",
       "    <tr>\n",
       "      <th>2</th>\n",
       "      <td>American Amber / Red Ale</td>\n",
       "      <td>3.781010</td>\n",
       "      <td>3.627254</td>\n",
       "      <td>3.810190</td>\n",
       "      <td>3.656696</td>\n",
       "      <td>3.696127</td>\n",
       "    </tr>\n",
       "    <tr>\n",
       "      <th>3</th>\n",
       "      <td>American Amber / Red Lager</td>\n",
       "      <td>3.564601</td>\n",
       "      <td>3.213296</td>\n",
       "      <td>3.527494</td>\n",
       "      <td>3.354795</td>\n",
       "      <td>3.373590</td>\n",
       "    </tr>\n",
       "    <tr>\n",
       "      <th>4</th>\n",
       "      <td>American Barleywine</td>\n",
       "      <td>3.896756</td>\n",
       "      <td>4.019343</td>\n",
       "      <td>4.036535</td>\n",
       "      <td>3.996521</td>\n",
       "      <td>4.042633</td>\n",
       "    </tr>\n",
       "  </tbody>\n",
       "</table>\n",
       "</div>"
      ],
      "text/plain": [
       "                   beer_style  review_overall  review_aroma  \\\n",
       "0                     Altbier        3.824054      3.624015   \n",
       "1      American Adjunct Lager        3.001659      2.480211   \n",
       "2    American Amber / Red Ale        3.781010      3.627254   \n",
       "3  American Amber / Red Lager        3.564601      3.213296   \n",
       "4         American Barleywine        3.896756      4.019343   \n",
       "\n",
       "   review_appearance  review_palate  review_taste  \n",
       "0           3.809327       3.713086      3.744865  \n",
       "1           2.788546       2.735471      2.683112  \n",
       "2           3.810190       3.656696      3.696127  \n",
       "3           3.527494       3.354795      3.373590  \n",
       "4           4.036535       3.996521      4.042633  "
      ]
     },
     "execution_count": 57,
     "metadata": {},
     "output_type": "execute_result"
    }
   ],
   "source": [
    "scores = df[['brewery_name', 'beer_style', 'beer_name','review_overall', 'review_aroma', 'review_appearance', 'review_palate', 'review_taste'\n",
    "             ]]\n",
    "scores = scores.groupby(['beer_style']).mean().reset_index()\n",
    "scores.head()"
   ]
  },
  {
   "cell_type": "code",
   "execution_count": 64,
   "metadata": {},
   "outputs": [
    {
     "data": {
      "text/plain": [
       "<seaborn.axisgrid.PairGrid at 0x1a23e03dd8>"
      ]
     },
     "execution_count": 64,
     "metadata": {},
     "output_type": "execute_result"
    },
    {
     "data": {
      "image/png": "[encoded data removed]",
      "text/plain": [
       "<Figure size 900x900 with 30 Axes>"
      ]
     },
     "metadata": {
      "needs_background": "light"
     },
     "output_type": "display_data"
    }
   ],
   "source": [
    "sns.pairplot(scores)"
   ]
  },
  {
   "cell_type": "code",
   "execution_count": 42,
   "metadata": {},
   "outputs": [
    {
     "data": {
      "text/html": [
       "<div>\n",
       "<style scoped>\n",
       "    .dataframe tbody tr th:only-of-type {\n",
       "        vertical-align: middle;\n",
       "    }\n",
       "\n",
       "    .dataframe tbody tr th {\n",
       "        vertical-align: top;\n",
       "    }\n",
       "\n",
       "    .dataframe thead th {\n",
       "        text-align: right;\n",
       "    }\n",
       "</style>\n",
       "<table border=\"1\" class=\"dataframe\">\n",
       "  <thead>\n",
       "    <tr style=\"text-align: right;\">\n",
       "      <th></th>\n",
       "      <th>beer_style</th>\n",
       "      <th>review_overall</th>\n",
       "    </tr>\n",
       "  </thead>\n",
       "  <tbody>\n",
       "    <tr>\n",
       "      <th>77</th>\n",
       "      <td>Low Alcohol Beer</td>\n",
       "      <td>2.578268</td>\n",
       "    </tr>\n",
       "    <tr>\n",
       "      <th>13</th>\n",
       "      <td>American Malt Liquor</td>\n",
       "      <td>2.678854</td>\n",
       "    </tr>\n",
       "    <tr>\n",
       "      <th>76</th>\n",
       "      <td>Light Lager</td>\n",
       "      <td>2.698833</td>\n",
       "    </tr>\n",
       "    <tr>\n",
       "      <th>54</th>\n",
       "      <td>Euro Strong Lager</td>\n",
       "      <td>2.862518</td>\n",
       "    </tr>\n",
       "    <tr>\n",
       "      <th>64</th>\n",
       "      <td>Happoshu</td>\n",
       "      <td>2.914938</td>\n",
       "    </tr>\n",
       "    <tr>\n",
       "      <th>1</th>\n",
       "      <td>American Adjunct Lager</td>\n",
       "      <td>3.001659</td>\n",
       "    </tr>\n",
       "    <tr>\n",
       "      <th>34</th>\n",
       "      <td>Chile Beer</td>\n",
       "      <td>3.113298</td>\n",
       "    </tr>\n",
       "    <tr>\n",
       "      <th>69</th>\n",
       "      <td>Japanese Rice Lager</td>\n",
       "      <td>3.119987</td>\n",
       "    </tr>\n",
       "    <tr>\n",
       "      <th>53</th>\n",
       "      <td>Euro Pale Lager</td>\n",
       "      <td>3.202775</td>\n",
       "    </tr>\n",
       "    <tr>\n",
       "      <th>72</th>\n",
       "      <td>Kvass</td>\n",
       "      <td>3.355219</td>\n",
       "    </tr>\n",
       "  </tbody>\n",
       "</table>\n",
       "</div>"
      ],
      "text/plain": [
       "                beer_style  review_overall\n",
       "77        Low Alcohol Beer        2.578268\n",
       "13    American Malt Liquor        2.678854\n",
       "76             Light Lager        2.698833\n",
       "54       Euro Strong Lager        2.862518\n",
       "64                Happoshu        2.914938\n",
       "1   American Adjunct Lager        3.001659\n",
       "34              Chile Beer        3.113298\n",
       "69     Japanese Rice Lager        3.119987\n",
       "53         Euro Pale Lager        3.202775\n",
       "72                   Kvass        3.355219"
      ]
     },
     "execution_count": 42,
     "metadata": {},
     "output_type": "execute_result"
    }
   ],
   "source": [
    "#10 least liked beer styles\n",
    "overall = df[['brewery_name', 'beer_style', 'beer_name','review_overall']]\n",
    "ov_style = overall.groupby(['beer_style']).mean().reset_index()\n",
    "ov_style.sort_values('review_overall').head(10)"
   ]
  },
  {
   "cell_type": "code",
   "execution_count": 43,
   "metadata": {},
   "outputs": [
    {
     "data": {
      "text/html": [
       "<div>\n",
       "<style scoped>\n",
       "    .dataframe tbody tr th:only-of-type {\n",
       "        vertical-align: middle;\n",
       "    }\n",
       "\n",
       "    .dataframe tbody tr th {\n",
       "        vertical-align: top;\n",
       "    }\n",
       "\n",
       "    .dataframe thead th {\n",
       "        text-align: right;\n",
       "    }\n",
       "</style>\n",
       "<table border=\"1\" class=\"dataframe\">\n",
       "  <thead>\n",
       "    <tr style=\"text-align: right;\">\n",
       "      <th></th>\n",
       "      <th>beer_style</th>\n",
       "      <th>review_overall</th>\n",
       "    </tr>\n",
       "  </thead>\n",
       "  <tbody>\n",
       "    <tr>\n",
       "      <th>20</th>\n",
       "      <td>American Wild Ale</td>\n",
       "      <td>4.093262</td>\n",
       "    </tr>\n",
       "    <tr>\n",
       "      <th>63</th>\n",
       "      <td>Gueuze</td>\n",
       "      <td>4.086287</td>\n",
       "    </tr>\n",
       "    <tr>\n",
       "      <th>86</th>\n",
       "      <td>Quadrupel (Quad)</td>\n",
       "      <td>4.071630</td>\n",
       "    </tr>\n",
       "    <tr>\n",
       "      <th>75</th>\n",
       "      <td>Lambic - Unblended</td>\n",
       "      <td>4.048923</td>\n",
       "    </tr>\n",
       "    <tr>\n",
       "      <th>11</th>\n",
       "      <td>American Double / Imperial Stout</td>\n",
       "      <td>4.029820</td>\n",
       "    </tr>\n",
       "    <tr>\n",
       "      <th>89</th>\n",
       "      <td>Russian Imperial Stout</td>\n",
       "      <td>4.023084</td>\n",
       "    </tr>\n",
       "    <tr>\n",
       "      <th>100</th>\n",
       "      <td>Weizenbock</td>\n",
       "      <td>4.007969</td>\n",
       "    </tr>\n",
       "    <tr>\n",
       "      <th>9</th>\n",
       "      <td>American Double / Imperial IPA</td>\n",
       "      <td>3.998017</td>\n",
       "    </tr>\n",
       "    <tr>\n",
       "      <th>58</th>\n",
       "      <td>Flanders Red Ale</td>\n",
       "      <td>3.992722</td>\n",
       "    </tr>\n",
       "    <tr>\n",
       "      <th>90</th>\n",
       "      <td>Rye Beer</td>\n",
       "      <td>3.981737</td>\n",
       "    </tr>\n",
       "  </tbody>\n",
       "</table>\n",
       "</div>"
      ],
      "text/plain": [
       "                           beer_style  review_overall\n",
       "20                  American Wild Ale        4.093262\n",
       "63                             Gueuze        4.086287\n",
       "86                   Quadrupel (Quad)        4.071630\n",
       "75                 Lambic - Unblended        4.048923\n",
       "11   American Double / Imperial Stout        4.029820\n",
       "89             Russian Imperial Stout        4.023084\n",
       "100                        Weizenbock        4.007969\n",
       "9      American Double / Imperial IPA        3.998017\n",
       "58                   Flanders Red Ale        3.992722\n",
       "90                           Rye Beer        3.981737"
      ]
     },
     "execution_count": 43,
     "metadata": {},
     "output_type": "execute_result"
    }
   ],
   "source": [
    "#10 most liked beer styles\n",
    "ov_style.sort_values('review_overall', ascending=False).head(10)"
   ]
  },
  {
   "cell_type": "code",
   "execution_count": 62,
   "metadata": {},
   "outputs": [
    {
     "data": {
      "text/html": [
       "<div>\n",
       "<style scoped>\n",
       "    .dataframe tbody tr th:only-of-type {\n",
       "        vertical-align: middle;\n",
       "    }\n",
       "\n",
       "    .dataframe tbody tr th {\n",
       "        vertical-align: top;\n",
       "    }\n",
       "\n",
       "    .dataframe thead th {\n",
       "        text-align: right;\n",
       "    }\n",
       "</style>\n",
       "<table border=\"1\" class=\"dataframe\">\n",
       "  <thead>\n",
       "    <tr style=\"text-align: right;\">\n",
       "      <th></th>\n",
       "      <th>brewery_id</th>\n",
       "      <th>brewery_name</th>\n",
       "      <th>review_time</th>\n",
       "      <th>review_overall</th>\n",
       "      <th>review_aroma</th>\n",
       "      <th>review_appearance</th>\n",
       "      <th>review_profilename</th>\n",
       "      <th>beer_style</th>\n",
       "      <th>review_palate</th>\n",
       "      <th>review_taste</th>\n",
       "      <th>beer_name</th>\n",
       "      <th>beer_abv</th>\n",
       "      <th>beer_beerid</th>\n",
       "    </tr>\n",
       "  </thead>\n",
       "  <tbody>\n",
       "    <tr>\n",
       "      <th>798</th>\n",
       "      <td>1075</td>\n",
       "      <td>Caldera Brewing Company</td>\n",
       "      <td>1212201268</td>\n",
       "      <td>4.5</td>\n",
       "      <td>4.5</td>\n",
       "      <td>4.0</td>\n",
       "      <td>grumpy</td>\n",
       "      <td>American Double / Imperial Stout</td>\n",
       "      <td>4.0</td>\n",
       "      <td>4.5</td>\n",
       "      <td>Imperial Stout</td>\n",
       "      <td>NaN</td>\n",
       "      <td>42964</td>\n",
       "    </tr>\n",
       "    <tr>\n",
       "      <th>935</th>\n",
       "      <td>2724</td>\n",
       "      <td>Pacific Coast Brewing Company</td>\n",
       "      <td>1293611047</td>\n",
       "      <td>3.0</td>\n",
       "      <td>4.0</td>\n",
       "      <td>4.0</td>\n",
       "      <td>womencantsail</td>\n",
       "      <td>American Double / Imperial Stout</td>\n",
       "      <td>3.5</td>\n",
       "      <td>3.0</td>\n",
       "      <td>Leviathan Imperial Stout</td>\n",
       "      <td>10.0</td>\n",
       "      <td>39606</td>\n",
       "    </tr>\n",
       "    <tr>\n",
       "      <th>936</th>\n",
       "      <td>2724</td>\n",
       "      <td>Pacific Coast Brewing Company</td>\n",
       "      <td>1291596349</td>\n",
       "      <td>4.5</td>\n",
       "      <td>3.5</td>\n",
       "      <td>4.0</td>\n",
       "      <td>isualum12</td>\n",
       "      <td>American Double / Imperial Stout</td>\n",
       "      <td>4.0</td>\n",
       "      <td>3.5</td>\n",
       "      <td>Leviathan Imperial Stout</td>\n",
       "      <td>10.0</td>\n",
       "      <td>39606</td>\n",
       "    </tr>\n",
       "    <tr>\n",
       "      <th>938</th>\n",
       "      <td>2724</td>\n",
       "      <td>Pacific Coast Brewing Company</td>\n",
       "      <td>1278811077</td>\n",
       "      <td>4.5</td>\n",
       "      <td>3.5</td>\n",
       "      <td>3.5</td>\n",
       "      <td>4000qtrap</td>\n",
       "      <td>American Double / Imperial Stout</td>\n",
       "      <td>3.0</td>\n",
       "      <td>2.5</td>\n",
       "      <td>Leviathan Imperial Stout</td>\n",
       "      <td>10.0</td>\n",
       "      <td>39606</td>\n",
       "    </tr>\n",
       "    <tr>\n",
       "      <th>939</th>\n",
       "      <td>2724</td>\n",
       "      <td>Pacific Coast Brewing Company</td>\n",
       "      <td>1249951968</td>\n",
       "      <td>4.0</td>\n",
       "      <td>4.0</td>\n",
       "      <td>4.5</td>\n",
       "      <td>Georgiabeer</td>\n",
       "      <td>American Double / Imperial Stout</td>\n",
       "      <td>4.0</td>\n",
       "      <td>4.0</td>\n",
       "      <td>Leviathan Imperial Stout</td>\n",
       "      <td>10.0</td>\n",
       "      <td>39606</td>\n",
       "    </tr>\n",
       "  </tbody>\n",
       "</table>\n",
       "</div>"
      ],
      "text/plain": [
       "     brewery_id                   brewery_name  review_time  review_overall  \\\n",
       "798        1075        Caldera Brewing Company   1212201268             4.5   \n",
       "935        2724  Pacific Coast Brewing Company   1293611047             3.0   \n",
       "936        2724  Pacific Coast Brewing Company   1291596349             4.5   \n",
       "938        2724  Pacific Coast Brewing Company   1278811077             4.5   \n",
       "939        2724  Pacific Coast Brewing Company   1249951968             4.0   \n",
       "\n",
       "     review_aroma  review_appearance review_profilename  \\\n",
       "798           4.5                4.0             grumpy   \n",
       "935           4.0                4.0      womencantsail   \n",
       "936           3.5                4.0          isualum12   \n",
       "938           3.5                3.5          4000qtrap   \n",
       "939           4.0                4.5        Georgiabeer   \n",
       "\n",
       "                           beer_style  review_palate  review_taste  \\\n",
       "798  American Double / Imperial Stout            4.0           4.5   \n",
       "935  American Double / Imperial Stout            3.5           3.0   \n",
       "936  American Double / Imperial Stout            4.0           3.5   \n",
       "938  American Double / Imperial Stout            3.0           2.5   \n",
       "939  American Double / Imperial Stout            4.0           4.0   \n",
       "\n",
       "                    beer_name  beer_abv  beer_beerid  \n",
       "798            Imperial Stout       NaN        42964  \n",
       "935  Leviathan Imperial Stout      10.0        39606  \n",
       "936  Leviathan Imperial Stout      10.0        39606  \n",
       "938  Leviathan Imperial Stout      10.0        39606  \n",
       "939  Leviathan Imperial Stout      10.0        39606  "
      ]
     },
     "execution_count": 62,
     "metadata": {},
     "output_type": "execute_result"
    }
   ],
   "source": [
    "#Let's explore 5 the most rated beer styles\n",
    "styles = ['American Wild Ale', 'Gueuze', 'Quadrupel (Quad)', 'Lambic - Unblended', 'American Double / Imperial Stout']\n",
    "beers = df[df['beer_style'].isin(styles)]\n",
    "beers.head()"
   ]
  },
  {
   "cell_type": "code",
   "execution_count": null,
   "metadata": {},
   "outputs": [],
   "source": [
    "#Review_aroma: distribution, beers with the highest/smallest scores, average score for different styles, correlation with review_overall"
   ]
  },
  {
   "cell_type": "code",
   "execution_count": 21,
   "metadata": {},
   "outputs": [
    {
     "data": {
      "text/plain": [
       "<matplotlib.axes._subplots.AxesSubplot at 0x1a1dea73c8>"
      ]
     },
     "execution_count": 21,
     "metadata": {},
     "output_type": "execute_result"
    },
    {
     "data": {
      "image/png": "[encoded data removed]",
      "text/plain": [
       "<Figure size 432x288 with 1 Axes>"
      ]
     },
     "metadata": {
      "needs_background": "light"
     },
     "output_type": "display_data"
    }
   ],
   "source": [
    "sns.boxplot(x=df['review_aroma'])"
   ]
  },
  {
   "cell_type": "code",
   "execution_count": 22,
   "metadata": {},
   "outputs": [
    {
     "data": {
      "text/plain": [
       "<matplotlib.axes._subplots.AxesSubplot at 0x1a1f2e6ba8>"
      ]
     },
     "execution_count": 22,
     "metadata": {},
     "output_type": "execute_result"
    },
    {
     "data": {
      "image/png": "[encoded data removed]",
      "text/plain": [
       "<Figure size 432x288 with 1 Axes>"
      ]
     },
     "metadata": {
      "needs_background": "light"
     },
     "output_type": "display_data"
    }
   ],
   "source": [
    "sns.distplot(df['review_aroma'], kde=False)"
   ]
  },
  {
   "cell_type": "code",
   "execution_count": null,
   "metadata": {},
   "outputs": [],
   "source": [
    "#Review_appearance: distribution, beers with highest/smallest scores, average score for different styles, correlation with review_overall"
   ]
  },
  {
   "cell_type": "code",
   "execution_count": 23,
   "metadata": {},
   "outputs": [
    {
     "data": {
      "text/plain": [
       "<matplotlib.axes._subplots.AxesSubplot at 0x1a1f1d8f60>"
      ]
     },
     "execution_count": 23,
     "metadata": {},
     "output_type": "execute_result"
    },
    {
     "data": {
      "image/png": "[encoded data removed]",
      "text/plain": [
       "<Figure size 432x288 with 1 Axes>"
      ]
     },
     "metadata": {
      "needs_background": "light"
     },
     "output_type": "display_data"
    }
   ],
   "source": [
    "sns.boxplot(x=df['review_appearance'])"
   ]
  },
  {
   "cell_type": "code",
   "execution_count": 24,
   "metadata": {},
   "outputs": [
    {
     "data": {
      "text/plain": [
       "<matplotlib.axes._subplots.AxesSubplot at 0x1a1f613f28>"
      ]
     },
     "execution_count": 24,
     "metadata": {},
     "output_type": "execute_result"
    },
    {
     "data": {
      "image/png": "[encoded data removed]",
      "text/plain": [
       "<Figure size 432x288 with 1 Axes>"
      ]
     },
     "metadata": {
      "needs_background": "light"
     },
     "output_type": "display_data"
    }
   ],
   "source": [
    "sns.distplot(df['review_appearance'], kde=False)"
   ]
  },
  {
   "cell_type": "code",
   "execution_count": null,
   "metadata": {},
   "outputs": [],
   "source": [
    "#Review_palate: distribution, beers with highest/smallest scores, average score for different styles, correlation with review_overall"
   ]
  },
  {
   "cell_type": "code",
   "execution_count": null,
   "metadata": {},
   "outputs": [],
   "source": [
    "#Review_taste: distribution, beers with highest/smallest scores, average score for different styles, correlation with review_overall"
   ]
  },
  {
   "cell_type": "code",
   "execution_count": 12,
   "metadata": {},
   "outputs": [
    {
     "data": {
      "image/png": "[encoded data removed]",
      "text/plain": [
       "<Figure size 432x288 with 1 Axes>"
      ]
     },
     "metadata": {
      "needs_background": "light"
     },
     "output_type": "display_data"
    }
   ],
   "source": []
  },
  {
   "cell_type": "code",
   "execution_count": 16,
   "metadata": {},
   "outputs": [
    {
     "data": {
      "text/html": [
       "<div>\n",
       "<style scoped>\n",
       "    .dataframe tbody tr th:only-of-type {\n",
       "        vertical-align: middle;\n",
       "    }\n",
       "\n",
       "    .dataframe tbody tr th {\n",
       "        vertical-align: top;\n",
       "    }\n",
       "\n",
       "    .dataframe thead th {\n",
       "        text-align: right;\n",
       "    }\n",
       "</style>\n",
       "<table border=\"1\" class=\"dataframe\">\n",
       "  <thead>\n",
       "    <tr style=\"text-align: right;\">\n",
       "      <th></th>\n",
       "      <th>brewery_name</th>\n",
       "      <th>beer_style</th>\n",
       "      <th>beer_name</th>\n",
       "      <th>beer_abv</th>\n",
       "    </tr>\n",
       "  </thead>\n",
       "  <tbody>\n",
       "    <tr>\n",
       "      <th>12919</th>\n",
       "      <td>Schorschbräu</td>\n",
       "      <td>Eisbock</td>\n",
       "      <td>Schorschbräu Schorschbock 57%</td>\n",
       "      <td>57.70</td>\n",
       "    </tr>\n",
       "    <tr>\n",
       "      <th>12939</th>\n",
       "      <td>Schorschbräu</td>\n",
       "      <td>Eisbock</td>\n",
       "      <td>Schorschbräu Schorschbock 43%</td>\n",
       "      <td>43.00</td>\n",
       "    </tr>\n",
       "    <tr>\n",
       "      <th>746385</th>\n",
       "      <td>BrewDog</td>\n",
       "      <td>American Double / Imperial IPA</td>\n",
       "      <td>Sink The Bismarck!</td>\n",
       "      <td>41.00</td>\n",
       "    </tr>\n",
       "    <tr>\n",
       "      <th>12941</th>\n",
       "      <td>Schorschbräu</td>\n",
       "      <td>Eisbock</td>\n",
       "      <td>Schorschbräu Schorschbock 40%</td>\n",
       "      <td>39.44</td>\n",
       "    </tr>\n",
       "    <tr>\n",
       "      <th>996153</th>\n",
       "      <td>De Struise Brouwers</td>\n",
       "      <td>American Double / Imperial Stout</td>\n",
       "      <td>Black Damnation VI - Messy</td>\n",
       "      <td>39.00</td>\n",
       "    </tr>\n",
       "    <tr>\n",
       "      <th>748356</th>\n",
       "      <td>BrewDog</td>\n",
       "      <td>American Double / Imperial Stout</td>\n",
       "      <td>Tactical Nuclear Penguin</td>\n",
       "      <td>32.00</td>\n",
       "    </tr>\n",
       "    <tr>\n",
       "      <th>12918</th>\n",
       "      <td>Schorschbräu</td>\n",
       "      <td>Eisbock</td>\n",
       "      <td>Schorschbräu Schorschbock 31%</td>\n",
       "      <td>30.86</td>\n",
       "    </tr>\n",
       "    <tr>\n",
       "      <th>1042328</th>\n",
       "      <td>Hair of the Dog Brewing Company / Brewery and ...</td>\n",
       "      <td>English Barleywine</td>\n",
       "      <td>Dave</td>\n",
       "      <td>29.00</td>\n",
       "    </tr>\n",
       "    <tr>\n",
       "      <th>746421</th>\n",
       "      <td>BrewDog</td>\n",
       "      <td>Belgian Strong Pale Ale</td>\n",
       "      <td>Ghost Deer</td>\n",
       "      <td>28.00</td>\n",
       "    </tr>\n",
       "    <tr>\n",
       "      <th>293821</th>\n",
       "      <td>Boston Beer Company (Samuel Adams)</td>\n",
       "      <td>American Strong Ale</td>\n",
       "      <td>Samuel Adams Utopias</td>\n",
       "      <td>27.00</td>\n",
       "    </tr>\n",
       "  </tbody>\n",
       "</table>\n",
       "</div>"
      ],
      "text/plain": [
       "                                              brewery_name  \\\n",
       "12919                                         Schorschbräu   \n",
       "12939                                         Schorschbräu   \n",
       "746385                                             BrewDog   \n",
       "12941                                         Schorschbräu   \n",
       "996153                                 De Struise Brouwers   \n",
       "748356                                             BrewDog   \n",
       "12918                                         Schorschbräu   \n",
       "1042328  Hair of the Dog Brewing Company / Brewery and ...   \n",
       "746421                                             BrewDog   \n",
       "293821                  Boston Beer Company (Samuel Adams)   \n",
       "\n",
       "                               beer_style                      beer_name  \\\n",
       "12919                             Eisbock  Schorschbräu Schorschbock 57%   \n",
       "12939                             Eisbock  Schorschbräu Schorschbock 43%   \n",
       "746385     American Double / Imperial IPA             Sink The Bismarck!   \n",
       "12941                             Eisbock  Schorschbräu Schorschbock 40%   \n",
       "996153   American Double / Imperial Stout     Black Damnation VI - Messy   \n",
       "748356   American Double / Imperial Stout       Tactical Nuclear Penguin   \n",
       "12918                             Eisbock  Schorschbräu Schorschbock 31%   \n",
       "1042328                English Barleywine                           Dave   \n",
       "746421            Belgian Strong Pale Ale                     Ghost Deer   \n",
       "293821                American Strong Ale           Samuel Adams Utopias   \n",
       "\n",
       "         beer_abv  \n",
       "12919       57.70  \n",
       "12939       43.00  \n",
       "746385      41.00  \n",
       "12941       39.44  \n",
       "996153      39.00  \n",
       "748356      32.00  \n",
       "12918       30.86  \n",
       "1042328     29.00  \n",
       "746421      28.00  \n",
       "293821      27.00  "
      ]
     },
     "execution_count": 16,
     "metadata": {},
     "output_type": "execute_result"
    }
   ],
   "source": [
    "#Top10 the most strongest beers\n",
    "strong_beers = df.sort_values(by=['beer_abv'], ascending=False)[['brewery_name', 'beer_style', 'beer_name', 'beer_abv']]\n",
    "strong_beers.drop_duplicates().head(10)"
   ]
  },
  {
   "cell_type": "code",
   "execution_count": 63,
   "metadata": {},
   "outputs": [],
   "source": [
    "#Which brewery has the biggest number of beers, which smallest"
   ]
  },
  {
   "cell_type": "code",
   "execution_count": null,
   "metadata": {},
   "outputs": [],
   "source": [
    "#Which brewery has the best/worse score"
   ]
  },
  {
   "cell_type": "code",
   "execution_count": null,
   "metadata": {},
   "outputs": [],
   "source": [
    "#What beer/brewery/beerstyle has the most/least reviews"
   ]
  },
  {
   "cell_type": "code",
   "execution_count": null,
   "metadata": {},
   "outputs": [],
   "source": [
    "#What users wrote the most reviews and what beerstyle was popular amongst them"
   ]
  }
 ],
 "metadata": {
  "kernelspec": {
   "display_name": "Python 3",
   "language": "python",
   "name": "python3"
  },
  "language_info": {
   "codemirror_mode": {
    "name": "ipython",
    "version": 3
   },
   "file_extension": ".py",
   "mimetype": "text/x-python",
   "name": "python",
   "nbconvert_exporter": "python",
   "pygments_lexer": "ipython3",
   "version": "3.6.8"
  }
 },
 "nbformat": 4,
 "nbformat_minor": 2
}
