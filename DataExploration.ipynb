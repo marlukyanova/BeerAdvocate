{
 "cells": [
  {
   "cell_type": "markdown",
   "metadata": {},
   "source": [
    "<h2>Finding the Best Beers to Try in BeerAdvocate Data</h2>\n",
    "\n",
    "I'll analyze an existing dataset from BeerAdvocate consisting of beer reviews to find the best beers to recommend. To make my recommendations, I'll try to find out:\n",
    "<ol>\n",
    "    <li>Which brewery produces the strongest beers by ABV%?</li>\n",
    "    <li>Which of the factors (aroma, taste, appearance, palate) are most important in determining the overall quality of a beer?</li>\n",
    "    <li>What can we say about reviewers?</li>\n",
    "    <li>If you had to pick up only 3 beers to recommend using only this data, which would you pick?</li>\n",
    "</ol>\n",
    "<h4>Summary of Results</h4>\n",
    "After analyzing the data, I found out that:\n",
    "<ul>\n",
    "    <li>the taste of beer is the most important factor in determining the overall quality;</li>\n",
    "    <li>the strongest beer has 57.70% abv, but overall reviews for the strongest beers are not very high;</li>\n",
    "    <li>half of reviewers tried at least 3 different beer styles and wrote at least 3 reviews.</li><br>\n",
    "For more details, please refer to the the full analysis below."
   ]
  },
  {
   "cell_type": "markdown",
   "metadata": {},
   "source": [
    "<h3>1. Import libraries and data</h3>\n",
    "The dataset is publicly available <a href=\"https://data.world/socialmediadata/beeradvocate\">in data.world repository</a>.<br>\n",
    "Let's start with importing libraries, reading a file with data to a Pandas Dataframe and doing a quick exploration."
   ]
  },
  {
   "cell_type": "code",
   "execution_count": 129,
   "metadata": {},
   "outputs": [
    {
     "data": {
      "text/html": [
       "<div>\n",
       "<style scoped>\n",
       "    .dataframe tbody tr th:only-of-type {\n",
       "        vertical-align: middle;\n",
       "    }\n",
       "\n",
       "    .dataframe tbody tr th {\n",
       "        vertical-align: top;\n",
       "    }\n",
       "\n",
       "    .dataframe thead th {\n",
       "        text-align: right;\n",
       "    }\n",
       "</style>\n",
       "<table border=\"1\" class=\"dataframe\">\n",
       "  <thead>\n",
       "    <tr style=\"text-align: right;\">\n",
       "      <th></th>\n",
       "      <th>brewery_id</th>\n",
       "      <th>brewery_name</th>\n",
       "      <th>review_time</th>\n",
       "      <th>review_overall</th>\n",
       "      <th>review_aroma</th>\n",
       "      <th>review_appearance</th>\n",
       "      <th>review_profilename</th>\n",
       "      <th>beer_style</th>\n",
       "      <th>review_palate</th>\n",
       "      <th>review_taste</th>\n",
       "      <th>beer_name</th>\n",
       "      <th>beer_abv</th>\n",
       "      <th>beer_beerid</th>\n",
       "    </tr>\n",
       "  </thead>\n",
       "  <tbody>\n",
       "    <tr>\n",
       "      <th>0</th>\n",
       "      <td>10325</td>\n",
       "      <td>Vecchio Birraio</td>\n",
       "      <td>1234817823</td>\n",
       "      <td>1.5</td>\n",
       "      <td>2.0</td>\n",
       "      <td>2.5</td>\n",
       "      <td>stcules</td>\n",
       "      <td>Hefeweizen</td>\n",
       "      <td>1.5</td>\n",
       "      <td>1.5</td>\n",
       "      <td>Sausa Weizen</td>\n",
       "      <td>5.0</td>\n",
       "      <td>47986</td>\n",
       "    </tr>\n",
       "    <tr>\n",
       "      <th>1</th>\n",
       "      <td>10325</td>\n",
       "      <td>Vecchio Birraio</td>\n",
       "      <td>1235915097</td>\n",
       "      <td>3.0</td>\n",
       "      <td>2.5</td>\n",
       "      <td>3.0</td>\n",
       "      <td>stcules</td>\n",
       "      <td>English Strong Ale</td>\n",
       "      <td>3.0</td>\n",
       "      <td>3.0</td>\n",
       "      <td>Red Moon</td>\n",
       "      <td>6.2</td>\n",
       "      <td>48213</td>\n",
       "    </tr>\n",
       "    <tr>\n",
       "      <th>2</th>\n",
       "      <td>10325</td>\n",
       "      <td>Vecchio Birraio</td>\n",
       "      <td>1235916604</td>\n",
       "      <td>3.0</td>\n",
       "      <td>2.5</td>\n",
       "      <td>3.0</td>\n",
       "      <td>stcules</td>\n",
       "      <td>Foreign / Export Stout</td>\n",
       "      <td>3.0</td>\n",
       "      <td>3.0</td>\n",
       "      <td>Black Horse Black Beer</td>\n",
       "      <td>6.5</td>\n",
       "      <td>48215</td>\n",
       "    </tr>\n",
       "    <tr>\n",
       "      <th>3</th>\n",
       "      <td>10325</td>\n",
       "      <td>Vecchio Birraio</td>\n",
       "      <td>1234725145</td>\n",
       "      <td>3.0</td>\n",
       "      <td>3.0</td>\n",
       "      <td>3.5</td>\n",
       "      <td>stcules</td>\n",
       "      <td>German Pilsener</td>\n",
       "      <td>2.5</td>\n",
       "      <td>3.0</td>\n",
       "      <td>Sausa Pils</td>\n",
       "      <td>5.0</td>\n",
       "      <td>47969</td>\n",
       "    </tr>\n",
       "    <tr>\n",
       "      <th>4</th>\n",
       "      <td>1075</td>\n",
       "      <td>Caldera Brewing Company</td>\n",
       "      <td>1293735206</td>\n",
       "      <td>4.0</td>\n",
       "      <td>4.5</td>\n",
       "      <td>4.0</td>\n",
       "      <td>johnmichaelsen</td>\n",
       "      <td>American Double / Imperial IPA</td>\n",
       "      <td>4.0</td>\n",
       "      <td>4.5</td>\n",
       "      <td>Cauldron DIPA</td>\n",
       "      <td>7.7</td>\n",
       "      <td>64883</td>\n",
       "    </tr>\n",
       "  </tbody>\n",
       "</table>\n",
       "</div>"
      ],
      "text/plain": [
       "   brewery_id             brewery_name  review_time  review_overall  \\\n",
       "0       10325          Vecchio Birraio   1234817823             1.5   \n",
       "1       10325          Vecchio Birraio   1235915097             3.0   \n",
       "2       10325          Vecchio Birraio   1235916604             3.0   \n",
       "3       10325          Vecchio Birraio   1234725145             3.0   \n",
       "4        1075  Caldera Brewing Company   1293735206             4.0   \n",
       "\n",
       "   review_aroma  review_appearance review_profilename  \\\n",
       "0           2.0                2.5            stcules   \n",
       "1           2.5                3.0            stcules   \n",
       "2           2.5                3.0            stcules   \n",
       "3           3.0                3.5            stcules   \n",
       "4           4.5                4.0     johnmichaelsen   \n",
       "\n",
       "                       beer_style  review_palate  review_taste  \\\n",
       "0                      Hefeweizen            1.5           1.5   \n",
       "1              English Strong Ale            3.0           3.0   \n",
       "2          Foreign / Export Stout            3.0           3.0   \n",
       "3                 German Pilsener            2.5           3.0   \n",
       "4  American Double / Imperial IPA            4.0           4.5   \n",
       "\n",
       "                beer_name  beer_abv  beer_beerid  \n",
       "0            Sausa Weizen       5.0        47986  \n",
       "1                Red Moon       6.2        48213  \n",
       "2  Black Horse Black Beer       6.5        48215  \n",
       "3              Sausa Pils       5.0        47969  \n",
       "4           Cauldron DIPA       7.7        64883  "
      ]
     },
     "execution_count": 129,
     "metadata": {},
     "output_type": "execute_result"
    }
   ],
   "source": [
    "#import libraries\n",
    "%matplotlib inline\n",
    "\n",
    "import pandas as pd\n",
    "import numpy as np\n",
    "import matplotlib.pyplot as plt\n",
    "import seaborn as sns\n",
    "\n",
    "#use seaborn styles for graphs\n",
    "sns.set_palette(\"GnBu_d\")\n",
    "sns.set()\n",
    "\n",
    "#import data\n",
    "df = pd.read_csv('beer_reviews.csv')\n",
    "df.head()"
   ]
  },
  {
   "cell_type": "code",
   "execution_count": 27,
   "metadata": {},
   "outputs": [
    {
     "name": "stdout",
     "output_type": "stream",
     "text": [
      "<class 'pandas.core.frame.DataFrame'>\n",
      "RangeIndex: 1586614 entries, 0 to 1586613\n",
      "Data columns (total 13 columns):\n",
      "brewery_id            1586614 non-null int64\n",
      "brewery_name          1586599 non-null object\n",
      "review_time           1586614 non-null int64\n",
      "review_overall        1586614 non-null float64\n",
      "review_aroma          1586614 non-null float64\n",
      "review_appearance     1586614 non-null float64\n",
      "review_profilename    1586266 non-null object\n",
      "beer_style            1586614 non-null object\n",
      "review_palate         1586614 non-null float64\n",
      "review_taste          1586614 non-null float64\n",
      "beer_name             1586614 non-null object\n",
      "beer_abv              1518829 non-null float64\n",
      "beer_beerid           1586614 non-null int64\n",
      "dtypes: float64(6), int64(3), object(4)\n",
      "memory usage: 157.4+ MB\n"
     ]
    }
   ],
   "source": [
    "df.info()"
   ]
  },
  {
   "cell_type": "markdown",
   "metadata": {},
   "source": [
    "The dataset consists of 1586614 entries; each entry is one review and shows what the user thinks about such beer features as taste, appearance, aroma, palate, and overall impression. Each review also has information about beer and its manufacturer.<br>\n",
    "The dataset looks pretty good, but there are missing values in Brewery_name, Review_profilename, and Beer_abv columns."
   ]
  },
  {
   "cell_type": "code",
   "execution_count": 49,
   "metadata": {},
   "outputs": [
    {
     "name": "stdout",
     "output_type": "stream",
     "text": [
      "Missing values in Brewery_name column: 15\n",
      "Missing values in Review_profilename column: 348\n",
      "Missing values in Beer_abv column:  67785\n"
     ]
    }
   ],
   "source": [
    "#count missing values\n",
    "print('Missing values in Brewery_name column:', df[pd.isna(df['brewery_name'])].shape[0])\n",
    "print('Missing values in Review_profilename column:', df[pd.isna(df['review_profilename'])].shape[0])\n",
    "print('Missing values in Beer_abv column: ', df[pd.isna(df['beer_abv'])].shape[0])"
   ]
  },
  {
   "cell_type": "markdown",
   "metadata": {},
   "source": [
    "Missing values are just a small fraction of 1.5 millions of reviews so that I can drop it."
   ]
  },
  {
   "cell_type": "code",
   "execution_count": 51,
   "metadata": {},
   "outputs": [
    {
     "name": "stdout",
     "output_type": "stream",
     "text": [
      "Missing values in Beer_abv column:  0\n"
     ]
    }
   ],
   "source": [
    "#drop all missing values in dataframe\n",
    "df = df.dropna()\n",
    "print('Missing values in Beer_abv column: ', df[pd.isna(df['beer_abv'])].shape[0])"
   ]
  },
  {
   "cell_type": "markdown",
   "metadata": {},
   "source": [
    "Let's do some quick exploration and look how much breweries, beers, reviewers are in this dataset."
   ]
  },
  {
   "cell_type": "code",
   "execution_count": 52,
   "metadata": {},
   "outputs": [
    {
     "name": "stdout",
     "output_type": "stream",
     "text": [
      "Number of breweries:  5230\n",
      "Number of beers:  49000\n",
      "Number of beer styles:  104\n",
      "Number of reviewers: 32908\n",
      "Average overall impression:  3.82\n"
     ]
    }
   ],
   "source": [
    "print('Number of breweries: ',df['brewery_id'].nunique())\n",
    "print('Number of beers: ', df['beer_beerid'].nunique())\n",
    "print('Number of beer styles: ', df['beer_style'].nunique())\n",
    "print('Number of reviewers:', df['review_profilename'].nunique())\n",
    "print('Average overall impression: ', \"{0:.2f}\".format(df['review_overall'].mean()))"
   ]
  },
  {
   "cell_type": "markdown",
   "metadata": {},
   "source": [
    "<h3>2. Beer</h3>\n",
    "<h4>2.1 Beer Characteristics and Overall Quality</h4>\n",
    "Let's look at how users evaluate different features of beer."
   ]
  },
  {
   "cell_type": "code",
   "execution_count": 141,
   "metadata": {},
   "outputs": [
    {
     "data": {
      "image/png": "[encoded data removed]",
      "text/plain": [
       "<Figure size 864x576 with 5 Axes>"
      ]
     },
     "metadata": {},
     "output_type": "display_data"
    }
   ],
   "source": [
    "plt.figure(figsize=(12,8))\n",
    "\n",
    "#Draw first suplot\n",
    "plt.subplot(231)\n",
    "plt.hist(df['review_overall'])\n",
    "plt.title(\"Overall\")\n",
    "plt.xlabel(\"Score\")\n",
    "plt.ylabel(\"Number of reviews\")\n",
    "\n",
    "#Draw second subplot    \n",
    "plt.subplot(232)\n",
    "plt.hist(df['review_aroma'])\n",
    "plt.title(\"Aroma\")\n",
    "plt.xlabel(\"Score\")\n",
    "plt.ylabel(\"Number of reviews\")\n",
    "\n",
    "#Draw third subplot    \n",
    "plt.subplot(233)\n",
    "plt.hist(df['review_appearance'])\n",
    "plt.title(\"Appearance\")\n",
    "plt.xlabel(\"Score\")\n",
    "plt.ylabel(\"Number of reviews\")\n",
    "\n",
    "#Draw fourth subplot    \n",
    "plt.subplot(234)\n",
    "plt.hist(df['review_palate'])\n",
    "plt.title(\"Palate\")\n",
    "plt.xlabel(\"Score\")\n",
    "plt.ylabel(\"Number of reviews\")\n",
    "\n",
    "#Draw fifth subplot    \n",
    "plt.subplot(235)\n",
    "plt.hist(df['review_taste'])\n",
    "plt.title(\"Taste\")\n",
    "plt.xlabel(\"Score\")\n",
    "plt.ylabel(\"Number of reviews\")\n",
    "\n",
    "plt.tight_layout()\n",
    "plt.show()"
   ]
  },
  {
   "cell_type": "markdown",
   "metadata": {},
   "source": [
    "Distributions are skewed. We can notice that even when a person didn't like the aroma or taste their overall review is not bad.<br>\n",
    "Let's now look at correlations between variable to see if some characteristics are more relevant to overall impressions."
   ]
  },
  {
   "cell_type": "code",
   "execution_count": 130,
   "metadata": {},
   "outputs": [
    {
     "data": {
      "text/html": [
       "<style  type=\"text/css\" >\n",
       "    #T_fc5fe3da_96a4_11e9_9cd5_7c04d0cbec28row0_col0 {\n",
       "            background-color:  #023858;\n",
       "        }    #T_fc5fe3da_96a4_11e9_9cd5_7c04d0cbec28row0_col1 {\n",
       "            background-color:  #ece7f2;\n",
       "        }    #T_fc5fe3da_96a4_11e9_9cd5_7c04d0cbec28row0_col2 {\n",
       "            background-color:  #fff7fb;\n",
       "        }    #T_fc5fe3da_96a4_11e9_9cd5_7c04d0cbec28row0_col3 {\n",
       "            background-color:  #bcc7e1;\n",
       "        }    #T_fc5fe3da_96a4_11e9_9cd5_7c04d0cbec28row0_col4 {\n",
       "            background-color:  #62a2cb;\n",
       "        }    #T_fc5fe3da_96a4_11e9_9cd5_7c04d0cbec28row1_col0 {\n",
       "            background-color:  #d5d5e8;\n",
       "        }    #T_fc5fe3da_96a4_11e9_9cd5_7c04d0cbec28row1_col1 {\n",
       "            background-color:  #023858;\n",
       "        }    #T_fc5fe3da_96a4_11e9_9cd5_7c04d0cbec28row1_col2 {\n",
       "            background-color:  #ede8f3;\n",
       "        }    #T_fc5fe3da_96a4_11e9_9cd5_7c04d0cbec28row1_col3 {\n",
       "            background-color:  #eee8f3;\n",
       "        }    #T_fc5fe3da_96a4_11e9_9cd5_7c04d0cbec28row1_col4 {\n",
       "            background-color:  #a7bddb;\n",
       "        }    #T_fc5fe3da_96a4_11e9_9cd5_7c04d0cbec28row2_col0 {\n",
       "            background-color:  #fff7fb;\n",
       "        }    #T_fc5fe3da_96a4_11e9_9cd5_7c04d0cbec28row2_col1 {\n",
       "            background-color:  #fff7fb;\n",
       "        }    #T_fc5fe3da_96a4_11e9_9cd5_7c04d0cbec28row2_col2 {\n",
       "            background-color:  #023858;\n",
       "        }    #T_fc5fe3da_96a4_11e9_9cd5_7c04d0cbec28row2_col3 {\n",
       "            background-color:  #fff7fb;\n",
       "        }    #T_fc5fe3da_96a4_11e9_9cd5_7c04d0cbec28row2_col4 {\n",
       "            background-color:  #fff7fb;\n",
       "        }    #T_fc5fe3da_96a4_11e9_9cd5_7c04d0cbec28row3_col0 {\n",
       "            background-color:  #9cb9d9;\n",
       "        }    #T_fc5fe3da_96a4_11e9_9cd5_7c04d0cbec28row3_col1 {\n",
       "            background-color:  #ece7f2;\n",
       "        }    #T_fc5fe3da_96a4_11e9_9cd5_7c04d0cbec28row3_col2 {\n",
       "            background-color:  #ebe6f2;\n",
       "        }    #T_fc5fe3da_96a4_11e9_9cd5_7c04d0cbec28row3_col3 {\n",
       "            background-color:  #023858;\n",
       "        }    #T_fc5fe3da_96a4_11e9_9cd5_7c04d0cbec28row3_col4 {\n",
       "            background-color:  #97b7d7;\n",
       "        }    #T_fc5fe3da_96a4_11e9_9cd5_7c04d0cbec28row4_col0 {\n",
       "            background-color:  #4c99c5;\n",
       "        }    #T_fc5fe3da_96a4_11e9_9cd5_7c04d0cbec28row4_col1 {\n",
       "            background-color:  #adc1dd;\n",
       "        }    #T_fc5fe3da_96a4_11e9_9cd5_7c04d0cbec28row4_col2 {\n",
       "            background-color:  #f1ebf5;\n",
       "        }    #T_fc5fe3da_96a4_11e9_9cd5_7c04d0cbec28row4_col3 {\n",
       "            background-color:  #a2bcda;\n",
       "        }    #T_fc5fe3da_96a4_11e9_9cd5_7c04d0cbec28row4_col4 {\n",
       "            background-color:  #023858;\n",
       "        }</style>  \n",
       "<table id=\"T_fc5fe3da_96a4_11e9_9cd5_7c04d0cbec28\" > \n",
       "<thead>    <tr> \n",
       "        <th class=\"blank level0\" ></th> \n",
       "        <th class=\"col_heading level0 col0\" >review_overall</th> \n",
       "        <th class=\"col_heading level0 col1\" >review_aroma</th> \n",
       "        <th class=\"col_heading level0 col2\" >review_appearance</th> \n",
       "        <th class=\"col_heading level0 col3\" >review_palate</th> \n",
       "        <th class=\"col_heading level0 col4\" >review_taste</th> \n",
       "    </tr></thead> \n",
       "<tbody>    <tr> \n",
       "        <th id=\"T_fc5fe3da_96a4_11e9_9cd5_7c04d0cbec28level0_row0\" class=\"row_heading level0 row0\" >review_overall</th> \n",
       "        <td id=\"T_fc5fe3da_96a4_11e9_9cd5_7c04d0cbec28row0_col0\" class=\"data row0 col0\" >1</td> \n",
       "        <td id=\"T_fc5fe3da_96a4_11e9_9cd5_7c04d0cbec28row0_col1\" class=\"data row0 col1\" >0.616013</td> \n",
       "        <td id=\"T_fc5fe3da_96a4_11e9_9cd5_7c04d0cbec28row0_col2\" class=\"data row0 col2\" >0.501732</td> \n",
       "        <td id=\"T_fc5fe3da_96a4_11e9_9cd5_7c04d0cbec28row0_col3\" class=\"data row0 col3\" >0.701914</td> \n",
       "        <td id=\"T_fc5fe3da_96a4_11e9_9cd5_7c04d0cbec28row0_col4\" class=\"data row0 col4\" >0.789816</td> \n",
       "    </tr>    <tr> \n",
       "        <th id=\"T_fc5fe3da_96a4_11e9_9cd5_7c04d0cbec28level0_row1\" class=\"row_heading level0 row1\" >review_aroma</th> \n",
       "        <td id=\"T_fc5fe3da_96a4_11e9_9cd5_7c04d0cbec28row1_col0\" class=\"data row1 col0\" >0.616013</td> \n",
       "        <td id=\"T_fc5fe3da_96a4_11e9_9cd5_7c04d0cbec28row1_col1\" class=\"data row1 col1\" >1</td> \n",
       "        <td id=\"T_fc5fe3da_96a4_11e9_9cd5_7c04d0cbec28row1_col2\" class=\"data row1 col2\" >0.561029</td> \n",
       "        <td id=\"T_fc5fe3da_96a4_11e9_9cd5_7c04d0cbec28row1_col3\" class=\"data row1 col3\" >0.616947</td> \n",
       "        <td id=\"T_fc5fe3da_96a4_11e9_9cd5_7c04d0cbec28row1_col4\" class=\"data row1 col4\" >0.716776</td> \n",
       "    </tr>    <tr> \n",
       "        <th id=\"T_fc5fe3da_96a4_11e9_9cd5_7c04d0cbec28level0_row2\" class=\"row_heading level0 row2\" >review_appearance</th> \n",
       "        <td id=\"T_fc5fe3da_96a4_11e9_9cd5_7c04d0cbec28row2_col0\" class=\"data row2 col0\" >0.501732</td> \n",
       "        <td id=\"T_fc5fe3da_96a4_11e9_9cd5_7c04d0cbec28row2_col1\" class=\"data row2 col1\" >0.561029</td> \n",
       "        <td id=\"T_fc5fe3da_96a4_11e9_9cd5_7c04d0cbec28row2_col2\" class=\"data row2 col2\" >1</td> \n",
       "        <td id=\"T_fc5fe3da_96a4_11e9_9cd5_7c04d0cbec28row2_col3\" class=\"data row2 col3\" >0.566634</td> \n",
       "        <td id=\"T_fc5fe3da_96a4_11e9_9cd5_7c04d0cbec28row2_col4\" class=\"data row2 col4\" >0.54698</td> \n",
       "    </tr>    <tr> \n",
       "        <th id=\"T_fc5fe3da_96a4_11e9_9cd5_7c04d0cbec28level0_row3\" class=\"row_heading level0 row3\" >review_palate</th> \n",
       "        <td id=\"T_fc5fe3da_96a4_11e9_9cd5_7c04d0cbec28row3_col0\" class=\"data row3 col0\" >0.701914</td> \n",
       "        <td id=\"T_fc5fe3da_96a4_11e9_9cd5_7c04d0cbec28row3_col1\" class=\"data row3 col1\" >0.616947</td> \n",
       "        <td id=\"T_fc5fe3da_96a4_11e9_9cd5_7c04d0cbec28row3_col2\" class=\"data row3 col2\" >0.566634</td> \n",
       "        <td id=\"T_fc5fe3da_96a4_11e9_9cd5_7c04d0cbec28row3_col3\" class=\"data row3 col3\" >1</td> \n",
       "        <td id=\"T_fc5fe3da_96a4_11e9_9cd5_7c04d0cbec28row3_col4\" class=\"data row3 col4\" >0.734135</td> \n",
       "    </tr>    <tr> \n",
       "        <th id=\"T_fc5fe3da_96a4_11e9_9cd5_7c04d0cbec28level0_row4\" class=\"row_heading level0 row4\" >review_taste</th> \n",
       "        <td id=\"T_fc5fe3da_96a4_11e9_9cd5_7c04d0cbec28row4_col0\" class=\"data row4 col0\" >0.789816</td> \n",
       "        <td id=\"T_fc5fe3da_96a4_11e9_9cd5_7c04d0cbec28row4_col1\" class=\"data row4 col1\" >0.716776</td> \n",
       "        <td id=\"T_fc5fe3da_96a4_11e9_9cd5_7c04d0cbec28row4_col2\" class=\"data row4 col2\" >0.54698</td> \n",
       "        <td id=\"T_fc5fe3da_96a4_11e9_9cd5_7c04d0cbec28row4_col3\" class=\"data row4 col3\" >0.734135</td> \n",
       "        <td id=\"T_fc5fe3da_96a4_11e9_9cd5_7c04d0cbec28row4_col4\" class=\"data row4 col4\" >1</td> \n",
       "    </tr></tbody> \n",
       "</table> "
      ],
      "text/plain": [
       "<pandas.io.formats.style.Styler at 0x1076f5b70>"
      ]
     },
     "execution_count": 130,
     "metadata": {},
     "output_type": "execute_result"
    }
   ],
   "source": [
    "#calcilate correlation matrix\n",
    "calc_corr = df[['review_overall', 'review_aroma', 'review_appearance', 'review_palate', 'review_taste']]\n",
    "\n",
    "#visualize correlation matrix\n",
    "calc_corr.corr().style.background_gradient()"
   ]
  },
  {
   "cell_type": "markdown",
   "metadata": {},
   "source": [
    "The biggest correlation with Review_overall has Review_taste (0.79), the smallest - Review_appearance (0.5). "
   ]
  },
  {
   "cell_type": "markdown",
   "metadata": {},
   "source": [
    "<h4>2.2 The Strongest Beer</h4>\n",
    "Let's start with distributions of beer abv."
   ]
  },
  {
   "cell_type": "code",
   "execution_count": 131,
   "metadata": {},
   "outputs": [
    {
     "name": "stdout",
     "output_type": "stream",
     "text": [
      "Average ABV: 7.04\n"
     ]
    }
   ],
   "source": [
    "#calculate average beer abv for all beers\n",
    "print('Average ABV:', \"{0:.2f}\".format(df['beer_abv'].mean()))"
   ]
  },
  {
   "cell_type": "code",
   "execution_count": 132,
   "metadata": {},
   "outputs": [
    {
     "data": {
      "image/png": "[encoded data removed]",
      "text/plain": [
       "<Figure size 432x288 with 1 Axes>"
      ]
     },
     "metadata": {},
     "output_type": "display_data"
    }
   ],
   "source": [
    "#plot the distribution\n",
    "sns.boxplot(x=df['beer_abv'])\n",
    "plt.title('Distribution of Alcohol by Volume (%) for beers')\n",
    "plt.show()"
   ]
  },
  {
   "cell_type": "markdown",
   "metadata": {},
   "source": [
    "As we can see average abv for all beers is 7%, and there are enough beers with really high abv. So let's look at the ten the strongest beers."
   ]
  },
  {
   "cell_type": "code",
   "execution_count": 133,
   "metadata": {},
   "outputs": [
    {
     "data": {
      "text/html": [
       "<div>\n",
       "<style scoped>\n",
       "    .dataframe tbody tr th:only-of-type {\n",
       "        vertical-align: middle;\n",
       "    }\n",
       "\n",
       "    .dataframe tbody tr th {\n",
       "        vertical-align: top;\n",
       "    }\n",
       "\n",
       "    .dataframe thead th {\n",
       "        text-align: right;\n",
       "    }\n",
       "</style>\n",
       "<table border=\"1\" class=\"dataframe\">\n",
       "  <thead>\n",
       "    <tr style=\"text-align: right;\">\n",
       "      <th></th>\n",
       "      <th>brewery_name</th>\n",
       "      <th>beer_style</th>\n",
       "      <th>beer_name</th>\n",
       "      <th>beer_abv</th>\n",
       "    </tr>\n",
       "  </thead>\n",
       "  <tbody>\n",
       "    <tr>\n",
       "      <th>12919</th>\n",
       "      <td>Schorschbräu</td>\n",
       "      <td>Eisbock</td>\n",
       "      <td>Schorschbräu Schorschbock 57%</td>\n",
       "      <td>57.70</td>\n",
       "    </tr>\n",
       "    <tr>\n",
       "      <th>12939</th>\n",
       "      <td>Schorschbräu</td>\n",
       "      <td>Eisbock</td>\n",
       "      <td>Schorschbräu Schorschbock 43%</td>\n",
       "      <td>43.00</td>\n",
       "    </tr>\n",
       "    <tr>\n",
       "      <th>746385</th>\n",
       "      <td>BrewDog</td>\n",
       "      <td>American Double / Imperial IPA</td>\n",
       "      <td>Sink The Bismarck!</td>\n",
       "      <td>41.00</td>\n",
       "    </tr>\n",
       "    <tr>\n",
       "      <th>12941</th>\n",
       "      <td>Schorschbräu</td>\n",
       "      <td>Eisbock</td>\n",
       "      <td>Schorschbräu Schorschbock 40%</td>\n",
       "      <td>39.44</td>\n",
       "    </tr>\n",
       "    <tr>\n",
       "      <th>996153</th>\n",
       "      <td>De Struise Brouwers</td>\n",
       "      <td>American Double / Imperial Stout</td>\n",
       "      <td>Black Damnation VI - Messy</td>\n",
       "      <td>39.00</td>\n",
       "    </tr>\n",
       "    <tr>\n",
       "      <th>748356</th>\n",
       "      <td>BrewDog</td>\n",
       "      <td>American Double / Imperial Stout</td>\n",
       "      <td>Tactical Nuclear Penguin</td>\n",
       "      <td>32.00</td>\n",
       "    </tr>\n",
       "    <tr>\n",
       "      <th>12918</th>\n",
       "      <td>Schorschbräu</td>\n",
       "      <td>Eisbock</td>\n",
       "      <td>Schorschbräu Schorschbock 31%</td>\n",
       "      <td>30.86</td>\n",
       "    </tr>\n",
       "    <tr>\n",
       "      <th>1042328</th>\n",
       "      <td>Hair of the Dog Brewing Company / Brewery and ...</td>\n",
       "      <td>English Barleywine</td>\n",
       "      <td>Dave</td>\n",
       "      <td>29.00</td>\n",
       "    </tr>\n",
       "    <tr>\n",
       "      <th>746421</th>\n",
       "      <td>BrewDog</td>\n",
       "      <td>Belgian Strong Pale Ale</td>\n",
       "      <td>Ghost Deer</td>\n",
       "      <td>28.00</td>\n",
       "    </tr>\n",
       "    <tr>\n",
       "      <th>293821</th>\n",
       "      <td>Boston Beer Company (Samuel Adams)</td>\n",
       "      <td>American Strong Ale</td>\n",
       "      <td>Samuel Adams Utopias</td>\n",
       "      <td>27.00</td>\n",
       "    </tr>\n",
       "  </tbody>\n",
       "</table>\n",
       "</div>"
      ],
      "text/plain": [
       "                                              brewery_name  \\\n",
       "12919                                         Schorschbräu   \n",
       "12939                                         Schorschbräu   \n",
       "746385                                             BrewDog   \n",
       "12941                                         Schorschbräu   \n",
       "996153                                 De Struise Brouwers   \n",
       "748356                                             BrewDog   \n",
       "12918                                         Schorschbräu   \n",
       "1042328  Hair of the Dog Brewing Company / Brewery and ...   \n",
       "746421                                             BrewDog   \n",
       "293821                  Boston Beer Company (Samuel Adams)   \n",
       "\n",
       "                               beer_style                      beer_name  \\\n",
       "12919                             Eisbock  Schorschbräu Schorschbock 57%   \n",
       "12939                             Eisbock  Schorschbräu Schorschbock 43%   \n",
       "746385     American Double / Imperial IPA             Sink The Bismarck!   \n",
       "12941                             Eisbock  Schorschbräu Schorschbock 40%   \n",
       "996153   American Double / Imperial Stout     Black Damnation VI - Messy   \n",
       "748356   American Double / Imperial Stout       Tactical Nuclear Penguin   \n",
       "12918                             Eisbock  Schorschbräu Schorschbock 31%   \n",
       "1042328                English Barleywine                           Dave   \n",
       "746421            Belgian Strong Pale Ale                     Ghost Deer   \n",
       "293821                American Strong Ale           Samuel Adams Utopias   \n",
       "\n",
       "         beer_abv  \n",
       "12919       57.70  \n",
       "12939       43.00  \n",
       "746385      41.00  \n",
       "12941       39.44  \n",
       "996153      39.00  \n",
       "748356      32.00  \n",
       "12918       30.86  \n",
       "1042328     29.00  \n",
       "746421      28.00  \n",
       "293821      27.00  "
      ]
     },
     "execution_count": 133,
     "metadata": {},
     "output_type": "execute_result"
    }
   ],
   "source": [
    "#sort beers by abv and show the first 10\n",
    "strong_beers = df.sort_values(by=['beer_abv'], ascending=False)[['brewery_name', 'beer_style', 'beer_name', 'beer_abv']]\n",
    "strong_beers.drop_duplicates().head(10)"
   ]
  },
  {
   "cell_type": "markdown",
   "metadata": {},
   "source": [
    "The strongest beer is \"Schorschbräu Schorschbock 57%\", it has 57.70 abv. The same brewery \"Schorschbräu\" brews other three strongest beers \"Schorschbräu Schorschbock 43%\", \"Schorschbräu Schorschbock 40%\", and \"Schorschbräu Schorschbock 31%\". \"BrewDog\" brewery has 3 beers among the strongest with 41, 32 and 28 abv.<br>\n",
    "Let's look at how reviewers score these beers."
   ]
  },
  {
   "cell_type": "code",
   "execution_count": 134,
   "metadata": {},
   "outputs": [
    {
     "data": {
      "text/html": [
       "<div>\n",
       "<style scoped>\n",
       "    .dataframe tbody tr th:only-of-type {\n",
       "        vertical-align: middle;\n",
       "    }\n",
       "\n",
       "    .dataframe tbody tr th {\n",
       "        vertical-align: top;\n",
       "    }\n",
       "\n",
       "    .dataframe thead th {\n",
       "        text-align: right;\n",
       "    }\n",
       "</style>\n",
       "<table border=\"1\" class=\"dataframe\">\n",
       "  <thead>\n",
       "    <tr style=\"text-align: right;\">\n",
       "      <th></th>\n",
       "      <th>review_overall</th>\n",
       "      <th>review_aroma</th>\n",
       "      <th>review_appearance</th>\n",
       "      <th>review_palate</th>\n",
       "    </tr>\n",
       "    <tr>\n",
       "      <th>beer_name</th>\n",
       "      <th></th>\n",
       "      <th></th>\n",
       "      <th></th>\n",
       "      <th></th>\n",
       "    </tr>\n",
       "  </thead>\n",
       "  <tbody>\n",
       "    <tr>\n",
       "      <th>Black Damnation VI - Messy</th>\n",
       "      <td>4.500000</td>\n",
       "      <td>4.642857</td>\n",
       "      <td>4.857143</td>\n",
       "      <td>4.785714</td>\n",
       "    </tr>\n",
       "    <tr>\n",
       "      <th>Dave</th>\n",
       "      <td>4.437500</td>\n",
       "      <td>4.562500</td>\n",
       "      <td>4.375000</td>\n",
       "      <td>4.531250</td>\n",
       "    </tr>\n",
       "    <tr>\n",
       "      <th>Ghost Deer</th>\n",
       "      <td>3.500000</td>\n",
       "      <td>3.666667</td>\n",
       "      <td>3.000000</td>\n",
       "      <td>2.833333</td>\n",
       "    </tr>\n",
       "    <tr>\n",
       "      <th>Samuel Adams Utopias</th>\n",
       "      <td>4.066197</td>\n",
       "      <td>4.453521</td>\n",
       "      <td>4.198592</td>\n",
       "      <td>4.246479</td>\n",
       "    </tr>\n",
       "    <tr>\n",
       "      <th>Schorschbräu Schorschbock 31%</th>\n",
       "      <td>3.500000</td>\n",
       "      <td>4.000000</td>\n",
       "      <td>4.000000</td>\n",
       "      <td>4.000000</td>\n",
       "    </tr>\n",
       "    <tr>\n",
       "      <th>Schorschbräu Schorschbock 40%</th>\n",
       "      <td>3.333333</td>\n",
       "      <td>3.666667</td>\n",
       "      <td>3.666667</td>\n",
       "      <td>3.166667</td>\n",
       "    </tr>\n",
       "    <tr>\n",
       "      <th>Schorschbräu Schorschbock 43%</th>\n",
       "      <td>3.750000</td>\n",
       "      <td>4.000000</td>\n",
       "      <td>3.750000</td>\n",
       "      <td>4.000000</td>\n",
       "    </tr>\n",
       "    <tr>\n",
       "      <th>Schorschbräu Schorschbock 57%</th>\n",
       "      <td>4.000000</td>\n",
       "      <td>4.000000</td>\n",
       "      <td>4.000000</td>\n",
       "      <td>4.000000</td>\n",
       "    </tr>\n",
       "    <tr>\n",
       "      <th>Sink The Bismarck!</th>\n",
       "      <td>3.197368</td>\n",
       "      <td>3.822368</td>\n",
       "      <td>3.835526</td>\n",
       "      <td>3.401316</td>\n",
       "    </tr>\n",
       "    <tr>\n",
       "      <th>Tactical Nuclear Penguin</th>\n",
       "      <td>3.187500</td>\n",
       "      <td>3.693182</td>\n",
       "      <td>3.755682</td>\n",
       "      <td>3.431818</td>\n",
       "    </tr>\n",
       "  </tbody>\n",
       "</table>\n",
       "</div>"
      ],
      "text/plain": [
       "                               review_overall  review_aroma  \\\n",
       "beer_name                                                     \n",
       "Black Damnation VI - Messy           4.500000      4.642857   \n",
       "Dave                                 4.437500      4.562500   \n",
       "Ghost Deer                           3.500000      3.666667   \n",
       "Samuel Adams Utopias                 4.066197      4.453521   \n",
       "Schorschbräu Schorschbock 31%        3.500000      4.000000   \n",
       "Schorschbräu Schorschbock 40%        3.333333      3.666667   \n",
       "Schorschbräu Schorschbock 43%        3.750000      4.000000   \n",
       "Schorschbräu Schorschbock 57%        4.000000      4.000000   \n",
       "Sink The Bismarck!                   3.197368      3.822368   \n",
       "Tactical Nuclear Penguin             3.187500      3.693182   \n",
       "\n",
       "                               review_appearance  review_palate  \n",
       "beer_name                                                        \n",
       "Black Damnation VI - Messy              4.857143       4.785714  \n",
       "Dave                                    4.375000       4.531250  \n",
       "Ghost Deer                              3.000000       2.833333  \n",
       "Samuel Adams Utopias                    4.198592       4.246479  \n",
       "Schorschbräu Schorschbock 31%           4.000000       4.000000  \n",
       "Schorschbräu Schorschbock 40%           3.666667       3.166667  \n",
       "Schorschbräu Schorschbock 43%           3.750000       4.000000  \n",
       "Schorschbräu Schorschbock 57%           4.000000       4.000000  \n",
       "Sink The Bismarck!                      3.835526       3.401316  \n",
       "Tactical Nuclear Penguin                3.755682       3.431818  "
      ]
     },
     "execution_count": 134,
     "metadata": {},
     "output_type": "execute_result"
    }
   ],
   "source": [
    "#save the names of 10 strongest beers\n",
    "strongbeers = strong_beers.drop_duplicates().head(10)['beer_name'].tolist()\n",
    "\n",
    "#leave data only about these 10 beers\n",
    "strongest = df[df['beer_name'].isin(strongbeers)]\n",
    "\n",
    "#calculate average scores for each beer\n",
    "strongest.groupby(['beer_name']).mean()[['review_overall', 'review_aroma', 'review_appearance', 'review_palate']]"
   ]
  },
  {
   "cell_type": "markdown",
   "metadata": {},
   "source": [
    "The strongest beer \"Schorschbräu Schorschbock 57%\" has not so bad overall impression, the best-rated beer from this beer is \"Black Damnation VI - Messy\" with overall review 4.5 and abv 39, \"Tactical Nuclear Penguin\" has the smallest score 3.19 and abv 32."
   ]
  },
  {
   "cell_type": "markdown",
   "metadata": {},
   "source": [
    "<h3>3. Portrait of a Beer Lover</h3>\n",
    "Now let's see what data could tell about reviewers and their preferences. <br>\n",
    "<h4>3.1 Popular and Unpopular Beer Styles</h4>\n",
    "The highest rated beer styles include Stouts and Ales, Gueuze, and Lambic. \n",
    "Among beer styles with the lowest overall_review are mostly lagers and other low alcohol drinks like Rice Lager, Kvass, Malt Liquor. "
   ]
  },
  {
   "cell_type": "code",
   "execution_count": 135,
   "metadata": {},
   "outputs": [
    {
     "data": {
      "image/png": "[encoded data removed]",
      "text/plain": [
       "<Figure size 432x288 with 1 Axes>"
      ]
     },
     "metadata": {},
     "output_type": "display_data"
    }
   ],
   "source": [
    "#leave only overall review and find average overall score for each beer style\n",
    "overall = df[['brewery_name', 'beer_style', 'beer_name','review_overall']]\n",
    "ov_style = overall.groupby(['beer_style']).mean().reset_index()\n",
    "\n",
    "#plot the top 10 beer styles\n",
    "sns.barplot(y='beer_style', x='review_overall', data=ov_style.sort_values('review_overall', ascending=False).head(10), palette=\"GnBu_d\")\n",
    "plt.title('10 beer styles with the highest overall review')\n",
    "plt.xlabel('Overall review')\n",
    "plt.ylabel('Beer style')\n",
    "plt.show()"
   ]
  },
  {
   "cell_type": "code",
   "execution_count": 136,
   "metadata": {},
   "outputs": [
    {
     "data": {
      "image/png": "[encoded data removed]",
      "text/plain": [
       "<Figure size 432x288 with 1 Axes>"
      ]
     },
     "metadata": {},
     "output_type": "display_data"
    }
   ],
   "source": [
    "#plot 10 beerstyles with the lowest overall review\n",
    "sns.barplot(y='beer_style', x='review_overall', data=ov_style.sort_values('review_overall', ascending=True).head(10), palette=\"GnBu_d\")\n",
    "plt.title('10 beer styles with the lowest overall review')\n",
    "plt.xlabel('Overall review')\n",
    "plt.ylabel('Beer style')\n",
    "plt.show()"
   ]
  },
  {
   "cell_type": "markdown",
   "metadata": {},
   "source": [
    "The most often are reviewed the next beer styles: American IPA, Imperial IPA, American Pale Ale and other Stouts and Ales. "
   ]
  },
  {
   "cell_type": "code",
   "execution_count": 138,
   "metadata": {},
   "outputs": [
    {
     "data": {
      "image/png": "[encoded data removed]",
      "text/plain": [
       "<Figure size 432x288 with 1 Axes>"
      ]
     },
     "metadata": {},
     "output_type": "display_data"
    }
   ],
   "source": [
    "#What beerstyle has the most/least reviews\n",
    "style_reviews = df.groupby('beer_style').count()[['review_overall']].reset_index().sort_values(by=['review_overall'], ascending=False)\n",
    "\n",
    "sns.barplot(y='beer_style', x='review_overall', data=style_reviews.head(10), palette=\"GnBu_d\")\n",
    "plt.title('10 beer styles with the biggest number of reviews')\n",
    "plt.xlabel('Number of reviews')\n",
    "plt.ylabel('Beer style')\n",
    "plt.show()"
   ]
  },
  {
   "cell_type": "code",
   "execution_count": 137,
   "metadata": {},
   "outputs": [
    {
     "data": {
      "image/png": "[encoded data removed]",
      "text/plain": [
       "<Figure size 432x288 with 1 Axes>"
      ]
     },
     "metadata": {},
     "output_type": "display_data"
    }
   ],
   "source": [
    "#plot beerstyles with the least numbers of reviews\n",
    "sns.barplot(y='beer_style', x='review_overall', data=style_reviews.tail(10), palette=\"GnBu_d\")\n",
    "plt.title('10 beer styles with the lowest number of reviews')\n",
    "plt.xlabel('Number of reviews')\n",
    "plt.ylabel('Beer style')\n",
    "plt.show()"
   ]
  },
  {
   "cell_type": "markdown",
   "metadata": {},
   "source": [
    "<h4>3.2 Typical Reviewer</h4>\n",
    "Let's look at reviewers profiles and count how much reviews they left."
   ]
  },
  {
   "cell_type": "code",
   "execution_count": 139,
   "metadata": {},
   "outputs": [
    {
     "data": {
      "text/html": [
       "<div>\n",
       "<style scoped>\n",
       "    .dataframe tbody tr th:only-of-type {\n",
       "        vertical-align: middle;\n",
       "    }\n",
       "\n",
       "    .dataframe tbody tr th {\n",
       "        vertical-align: top;\n",
       "    }\n",
       "\n",
       "    .dataframe thead th {\n",
       "        text-align: right;\n",
       "    }\n",
       "</style>\n",
       "<table border=\"1\" class=\"dataframe\">\n",
       "  <thead>\n",
       "    <tr style=\"text-align: right;\">\n",
       "      <th></th>\n",
       "      <th>review_overall</th>\n",
       "    </tr>\n",
       "  </thead>\n",
       "  <tbody>\n",
       "    <tr>\n",
       "      <th>count</th>\n",
       "      <td>33387.000000</td>\n",
       "    </tr>\n",
       "    <tr>\n",
       "      <th>mean</th>\n",
       "      <td>47.511487</td>\n",
       "    </tr>\n",
       "    <tr>\n",
       "      <th>std</th>\n",
       "      <td>182.599759</td>\n",
       "    </tr>\n",
       "    <tr>\n",
       "      <th>min</th>\n",
       "      <td>1.000000</td>\n",
       "    </tr>\n",
       "    <tr>\n",
       "      <th>25%</th>\n",
       "      <td>1.000000</td>\n",
       "    </tr>\n",
       "    <tr>\n",
       "      <th>50%</th>\n",
       "      <td>3.000000</td>\n",
       "    </tr>\n",
       "    <tr>\n",
       "      <th>75%</th>\n",
       "      <td>16.000000</td>\n",
       "    </tr>\n",
       "    <tr>\n",
       "      <th>max</th>\n",
       "      <td>5817.000000</td>\n",
       "    </tr>\n",
       "  </tbody>\n",
       "</table>\n",
       "</div>"
      ],
      "text/plain": [
       "       review_overall\n",
       "count    33387.000000\n",
       "mean        47.511487\n",
       "std        182.599759\n",
       "min          1.000000\n",
       "25%          1.000000\n",
       "50%          3.000000\n",
       "75%         16.000000\n",
       "max       5817.000000"
      ]
     },
     "execution_count": 139,
     "metadata": {},
     "output_type": "execute_result"
    }
   ],
   "source": [
    "#count number of reviews for each profile\n",
    "profiles = df.groupby(['review_profilename']).count()[['review_overall']].reset_index()\n",
    "profiles.describe()"
   ]
  },
  {
   "cell_type": "markdown",
   "metadata": {},
   "source": [
    "As we can see, half of the reviewers wrote 3 and fewer reviews. 75% of users wrote up to 16 reviews. The largest number of reviews from one user is 5346!<br>\n",
    "Another interesting thing is how many different styles users tried."
   ]
  },
  {
   "cell_type": "code",
   "execution_count": 140,
   "metadata": {},
   "outputs": [
    {
     "data": {
      "text/html": [
       "<div>\n",
       "<style scoped>\n",
       "    .dataframe tbody tr th:only-of-type {\n",
       "        vertical-align: middle;\n",
       "    }\n",
       "\n",
       "    .dataframe tbody tr th {\n",
       "        vertical-align: top;\n",
       "    }\n",
       "\n",
       "    .dataframe thead th {\n",
       "        text-align: right;\n",
       "    }\n",
       "</style>\n",
       "<table border=\"1\" class=\"dataframe\">\n",
       "  <thead>\n",
       "    <tr style=\"text-align: right;\">\n",
       "      <th></th>\n",
       "      <th>beer_style</th>\n",
       "    </tr>\n",
       "  </thead>\n",
       "  <tbody>\n",
       "    <tr>\n",
       "      <th>count</th>\n",
       "      <td>33387.00000</td>\n",
       "    </tr>\n",
       "    <tr>\n",
       "      <th>mean</th>\n",
       "      <td>12.05562</td>\n",
       "    </tr>\n",
       "    <tr>\n",
       "      <th>std</th>\n",
       "      <td>19.93837</td>\n",
       "    </tr>\n",
       "    <tr>\n",
       "      <th>min</th>\n",
       "      <td>1.00000</td>\n",
       "    </tr>\n",
       "    <tr>\n",
       "      <th>25%</th>\n",
       "      <td>1.00000</td>\n",
       "    </tr>\n",
       "    <tr>\n",
       "      <th>50%</th>\n",
       "      <td>3.00000</td>\n",
       "    </tr>\n",
       "    <tr>\n",
       "      <th>75%</th>\n",
       "      <td>12.00000</td>\n",
       "    </tr>\n",
       "    <tr>\n",
       "      <th>max</th>\n",
       "      <td>104.00000</td>\n",
       "    </tr>\n",
       "  </tbody>\n",
       "</table>\n",
       "</div>"
      ],
      "text/plain": [
       "        beer_style\n",
       "count  33387.00000\n",
       "mean      12.05562\n",
       "std       19.93837\n",
       "min        1.00000\n",
       "25%        1.00000\n",
       "50%        3.00000\n",
       "75%       12.00000\n",
       "max      104.00000"
      ]
     },
     "execution_count": 140,
     "metadata": {},
     "output_type": "execute_result"
    }
   ],
   "source": [
    "#count number of beerstyles for each profile\n",
    "profiles_style = df[['review_profilename', 'beer_style']].drop_duplicates()\n",
    "profiles_style = profiles_style.groupby(['review_profilename']).count().reset_index()\n",
    "profiles_style.describe()"
   ]
  },
  {
   "cell_type": "markdown",
   "metadata": {},
   "source": [
    "Half of the reviewers tried at least three different beer styles. 75% of all users wrote reviews for 12 different styles. Also, the maximum of styles reviewed by one user is 104."
   ]
  },
  {
   "cell_type": "markdown",
   "metadata": {},
   "source": [
    "<h3>4. What Beer to Try</h3>\n",
    "\n",
    "If you had to pick up only three beers to recommend using only this data, which would you pick?<br>\n",
    "I would start with the beer style and pick three styles with the highest rating. Then for each of them, I would find the best beer, but I would only consider beers with at least 5 reviews."
   ]
  },
  {
   "cell_type": "code",
   "execution_count": 100,
   "metadata": {},
   "outputs": [
    {
     "data": {
      "text/html": [
       "<div>\n",
       "<style scoped>\n",
       "    .dataframe tbody tr th:only-of-type {\n",
       "        vertical-align: middle;\n",
       "    }\n",
       "\n",
       "    .dataframe tbody tr th {\n",
       "        vertical-align: top;\n",
       "    }\n",
       "\n",
       "    .dataframe thead th {\n",
       "        text-align: right;\n",
       "    }\n",
       "</style>\n",
       "<table border=\"1\" class=\"dataframe\">\n",
       "  <thead>\n",
       "    <tr style=\"text-align: right;\">\n",
       "      <th></th>\n",
       "      <th>beer_style</th>\n",
       "      <th>review_overall</th>\n",
       "    </tr>\n",
       "  </thead>\n",
       "  <tbody>\n",
       "    <tr>\n",
       "      <th>20</th>\n",
       "      <td>American Wild Ale</td>\n",
       "      <td>4.100379</td>\n",
       "    </tr>\n",
       "    <tr>\n",
       "      <th>63</th>\n",
       "      <td>Gueuze</td>\n",
       "      <td>4.087397</td>\n",
       "    </tr>\n",
       "    <tr>\n",
       "      <th>86</th>\n",
       "      <td>Quadrupel (Quad)</td>\n",
       "      <td>4.073156</td>\n",
       "    </tr>\n",
       "  </tbody>\n",
       "</table>\n",
       "</div>"
      ],
      "text/plain": [
       "           beer_style  review_overall\n",
       "20  American Wild Ale        4.100379\n",
       "63             Gueuze        4.087397\n",
       "86   Quadrupel (Quad)        4.073156"
      ]
     },
     "execution_count": 100,
     "metadata": {},
     "output_type": "execute_result"
    }
   ],
   "source": [
    "#Top3 rated beerstyles\n",
    "ov_style.sort_values('review_overall', ascending=False).head(3)"
   ]
  },
  {
   "cell_type": "code",
   "execution_count": 152,
   "metadata": {},
   "outputs": [
    {
     "data": {
      "text/html": [
       "<div>\n",
       "<style scoped>\n",
       "    .dataframe tbody tr th:only-of-type {\n",
       "        vertical-align: middle;\n",
       "    }\n",
       "\n",
       "    .dataframe tbody tr th {\n",
       "        vertical-align: top;\n",
       "    }\n",
       "\n",
       "    .dataframe thead th {\n",
       "        text-align: right;\n",
       "    }\n",
       "</style>\n",
       "<table border=\"1\" class=\"dataframe\">\n",
       "  <thead>\n",
       "    <tr style=\"text-align: right;\">\n",
       "      <th></th>\n",
       "      <th></th>\n",
       "      <th></th>\n",
       "      <th></th>\n",
       "      <th>review_overall</th>\n",
       "      <th>review_aroma</th>\n",
       "      <th>review_appearance</th>\n",
       "      <th>review_palate</th>\n",
       "    </tr>\n",
       "    <tr>\n",
       "      <th>beer_style</th>\n",
       "      <th>beer_beerid</th>\n",
       "      <th>beer_name</th>\n",
       "      <th>brewery_name</th>\n",
       "      <th></th>\n",
       "      <th></th>\n",
       "      <th></th>\n",
       "      <th></th>\n",
       "    </tr>\n",
       "  </thead>\n",
       "  <tbody>\n",
       "    <tr>\n",
       "      <th rowspan=\"2\" valign=\"top\">American Wild Ale</th>\n",
       "      <th>54147</th>\n",
       "      <th>Veritas 005</th>\n",
       "      <th>The Lost Abbey</th>\n",
       "      <td>4.846154</td>\n",
       "      <td>4.653846</td>\n",
       "      <td>4.461538</td>\n",
       "      <td>4.538462</td>\n",
       "    </tr>\n",
       "    <tr>\n",
       "      <th>56266</th>\n",
       "      <th>Cascade Sang Noir</th>\n",
       "      <th>Cascade Brewing / Raccoon Lodge &amp; Brewpub</th>\n",
       "      <td>4.807692</td>\n",
       "      <td>4.538462</td>\n",
       "      <td>4.307692</td>\n",
       "      <td>4.423077</td>\n",
       "    </tr>\n",
       "    <tr>\n",
       "      <th rowspan=\"2\" valign=\"top\">Gueuze</th>\n",
       "      <th>68548</th>\n",
       "      <th>Armand'4 Oude Geuze Lente (Spring)</th>\n",
       "      <th>Brouwerij Drie Fonteinen</th>\n",
       "      <td>4.730769</td>\n",
       "      <td>4.715385</td>\n",
       "      <td>4.523077</td>\n",
       "      <td>4.669231</td>\n",
       "    </tr>\n",
       "    <tr>\n",
       "      <th>70356</th>\n",
       "      <th>Armand'4 Oude Geuze Zomer (Summer)</th>\n",
       "      <th>Brouwerij Drie Fonteinen</th>\n",
       "      <td>4.644444</td>\n",
       "      <td>4.544444</td>\n",
       "      <td>4.466667</td>\n",
       "      <td>4.488889</td>\n",
       "    </tr>\n",
       "    <tr>\n",
       "      <th rowspan=\"2\" valign=\"top\">American Wild Ale</th>\n",
       "      <th>44112</th>\n",
       "      <th>Yellow Bus</th>\n",
       "      <th>The Lost Abbey</th>\n",
       "      <td>4.641304</td>\n",
       "      <td>4.619565</td>\n",
       "      <td>4.043478</td>\n",
       "      <td>4.456522</td>\n",
       "    </tr>\n",
       "    <tr>\n",
       "      <th>56702</th>\n",
       "      <th>Jolly Guava</th>\n",
       "      <th>Cigar City Brewing</th>\n",
       "      <td>4.636364</td>\n",
       "      <td>4.363636</td>\n",
       "      <td>4.181818</td>\n",
       "      <td>4.409091</td>\n",
       "    </tr>\n",
       "    <tr>\n",
       "      <th>Gueuze</th>\n",
       "      <th>23413</th>\n",
       "      <th>Geuze Cuvée J&amp;J (Joost En Jessie) Blauw (Blue)</th>\n",
       "      <th>Brouwerij Drie Fonteinen</th>\n",
       "      <td>4.633803</td>\n",
       "      <td>4.577465</td>\n",
       "      <td>4.471831</td>\n",
       "      <td>4.436620</td>\n",
       "    </tr>\n",
       "    <tr>\n",
       "      <th rowspan=\"2\" valign=\"top\">American Wild Ale</th>\n",
       "      <th>45957</th>\n",
       "      <th>Veritas 004</th>\n",
       "      <th>The Lost Abbey</th>\n",
       "      <td>4.626506</td>\n",
       "      <td>4.548193</td>\n",
       "      <td>4.253012</td>\n",
       "      <td>4.506024</td>\n",
       "    </tr>\n",
       "    <tr>\n",
       "      <th>41928</th>\n",
       "      <th>Deviation - Bottleworks 9th Anniversary</th>\n",
       "      <th>Russian River Brewing Company</th>\n",
       "      <td>4.620536</td>\n",
       "      <td>4.598214</td>\n",
       "      <td>4.370536</td>\n",
       "      <td>4.566964</td>\n",
       "    </tr>\n",
       "    <tr>\n",
       "      <th>Quadrupel (Quad)</th>\n",
       "      <th>1545</th>\n",
       "      <th>Trappist Westvleteren 12</th>\n",
       "      <th>Brouwerij Westvleteren (Sint-Sixtusabdij van Westvleteren)</th>\n",
       "      <td>4.617925</td>\n",
       "      <td>4.583333</td>\n",
       "      <td>4.454009</td>\n",
       "      <td>4.633255</td>\n",
       "    </tr>\n",
       "  </tbody>\n",
       "</table>\n",
       "</div>"
      ],
      "text/plain": [
       "                                                                                                                                 review_overall  \\\n",
       "beer_style        beer_beerid beer_name                                      brewery_name                                                         \n",
       "American Wild Ale 54147       Veritas 005                                    The Lost Abbey                                            4.846154   \n",
       "                  56266       Cascade Sang Noir                              Cascade Brewing / Raccoon Lodge & Brewpub                 4.807692   \n",
       "Gueuze            68548       Armand'4 Oude Geuze Lente (Spring)             Brouwerij Drie Fonteinen                                  4.730769   \n",
       "                  70356       Armand'4 Oude Geuze Zomer (Summer)             Brouwerij Drie Fonteinen                                  4.644444   \n",
       "American Wild Ale 44112       Yellow Bus                                     The Lost Abbey                                            4.641304   \n",
       "                  56702       Jolly Guava                                    Cigar City Brewing                                        4.636364   \n",
       "Gueuze            23413       Geuze Cuvée J&J (Joost En Jessie) Blauw (Blue) Brouwerij Drie Fonteinen                                  4.633803   \n",
       "American Wild Ale 45957       Veritas 004                                    The Lost Abbey                                            4.626506   \n",
       "                  41928       Deviation - Bottleworks 9th Anniversary        Russian River Brewing Company                             4.620536   \n",
       "Quadrupel (Quad)  1545        Trappist Westvleteren 12                       Brouwerij Westvleteren (Sint-Sixtusabdij van We...        4.617925   \n",
       "\n",
       "                                                                                                                                 review_aroma  \\\n",
       "beer_style        beer_beerid beer_name                                      brewery_name                                                       \n",
       "American Wild Ale 54147       Veritas 005                                    The Lost Abbey                                          4.653846   \n",
       "                  56266       Cascade Sang Noir                              Cascade Brewing / Raccoon Lodge & Brewpub               4.538462   \n",
       "Gueuze            68548       Armand'4 Oude Geuze Lente (Spring)             Brouwerij Drie Fonteinen                                4.715385   \n",
       "                  70356       Armand'4 Oude Geuze Zomer (Summer)             Brouwerij Drie Fonteinen                                4.544444   \n",
       "American Wild Ale 44112       Yellow Bus                                     The Lost Abbey                                          4.619565   \n",
       "                  56702       Jolly Guava                                    Cigar City Brewing                                      4.363636   \n",
       "Gueuze            23413       Geuze Cuvée J&J (Joost En Jessie) Blauw (Blue) Brouwerij Drie Fonteinen                                4.577465   \n",
       "American Wild Ale 45957       Veritas 004                                    The Lost Abbey                                          4.548193   \n",
       "                  41928       Deviation - Bottleworks 9th Anniversary        Russian River Brewing Company                           4.598214   \n",
       "Quadrupel (Quad)  1545        Trappist Westvleteren 12                       Brouwerij Westvleteren (Sint-Sixtusabdij van We...      4.583333   \n",
       "\n",
       "                                                                                                                                 review_appearance  \\\n",
       "beer_style        beer_beerid beer_name                                      brewery_name                                                            \n",
       "American Wild Ale 54147       Veritas 005                                    The Lost Abbey                                               4.461538   \n",
       "                  56266       Cascade Sang Noir                              Cascade Brewing / Raccoon Lodge & Brewpub                    4.307692   \n",
       "Gueuze            68548       Armand'4 Oude Geuze Lente (Spring)             Brouwerij Drie Fonteinen                                     4.523077   \n",
       "                  70356       Armand'4 Oude Geuze Zomer (Summer)             Brouwerij Drie Fonteinen                                     4.466667   \n",
       "American Wild Ale 44112       Yellow Bus                                     The Lost Abbey                                               4.043478   \n",
       "                  56702       Jolly Guava                                    Cigar City Brewing                                           4.181818   \n",
       "Gueuze            23413       Geuze Cuvée J&J (Joost En Jessie) Blauw (Blue) Brouwerij Drie Fonteinen                                     4.471831   \n",
       "American Wild Ale 45957       Veritas 004                                    The Lost Abbey                                               4.253012   \n",
       "                  41928       Deviation - Bottleworks 9th Anniversary        Russian River Brewing Company                                4.370536   \n",
       "Quadrupel (Quad)  1545        Trappist Westvleteren 12                       Brouwerij Westvleteren (Sint-Sixtusabdij van We...           4.454009   \n",
       "\n",
       "                                                                                                                                 review_palate  \n",
       "beer_style        beer_beerid beer_name                                      brewery_name                                                       \n",
       "American Wild Ale 54147       Veritas 005                                    The Lost Abbey                                           4.538462  \n",
       "                  56266       Cascade Sang Noir                              Cascade Brewing / Raccoon Lodge & Brewpub                4.423077  \n",
       "Gueuze            68548       Armand'4 Oude Geuze Lente (Spring)             Brouwerij Drie Fonteinen                                 4.669231  \n",
       "                  70356       Armand'4 Oude Geuze Zomer (Summer)             Brouwerij Drie Fonteinen                                 4.488889  \n",
       "American Wild Ale 44112       Yellow Bus                                     The Lost Abbey                                           4.456522  \n",
       "                  56702       Jolly Guava                                    Cigar City Brewing                                       4.409091  \n",
       "Gueuze            23413       Geuze Cuvée J&J (Joost En Jessie) Blauw (Blue) Brouwerij Drie Fonteinen                                 4.436620  \n",
       "American Wild Ale 45957       Veritas 004                                    The Lost Abbey                                           4.506024  \n",
       "                  41928       Deviation - Bottleworks 9th Anniversary        Russian River Brewing Company                            4.566964  \n",
       "Quadrupel (Quad)  1545        Trappist Westvleteren 12                       Brouwerij Westvleteren (Sint-Sixtusabdij van We...       4.633255  "
      ]
     },
     "execution_count": 152,
     "metadata": {},
     "output_type": "execute_result"
    }
   ],
   "source": [
    "#only beers for top3 beerstyles\n",
    "top3styles = ['American Wild Ale', 'Gueuze', 'Quadrupel (Quad)']\n",
    "top3 = df[df['beer_style'].isin(top3styles)]\n",
    "\n",
    "#for each beer count number of reviews\n",
    "beers = top3.groupby(['beer_beerid']).count()[['review_overall']].reset_index()\n",
    "\n",
    "#only beers with at least 5 reviews\n",
    "beers = beers[beers['review_overall'] >= 5]\n",
    "beerslist = beers['beer_beerid'].tolist()\n",
    "\n",
    "#only beers with at least 5 reviews\n",
    "top3 = top3[top3['beer_beerid'].isin(beerslist)]\n",
    "\n",
    "#group beers by overall review\n",
    "bestbeer = top3.groupby(['beer_style','beer_beerid', 'beer_name', 'brewery_name']).mean()[['review_overall', 'review_aroma', 'review_appearance', 'review_palate']].sort_values(by=['review_overall'], ascending=False)\n",
    "bestbeer.head(10)"
   ]
  },
  {
   "cell_type": "markdown",
   "metadata": {},
   "source": [
    "So, my 3 beers to recommend would be:\n",
    "<ol>\n",
    "    <li>American Wild Ale: <b>\"Veritas 005\" by \"The Lost Abbey\"</b> with average overall review 4.8</li>\n",
    "    <li>Gueuze: <b>\"Armand'4 Oude Geuze\" by \"Brouwerij Drie Fonteinen\"</b> with average overall review 4.6</li>\n",
    "    <li>Quadrupel (Quad): <b>\"Trappist Westvleteren 12\" by \"Brouwerij Westvleteren (Sint-Sixtusabdij van Westvleteren)\"</b> with average overall review 4.6</li>\n",
    "</ol>"
   ]
  },
  {
   "cell_type": "markdown",
   "metadata": {},
   "source": [
    "<h3>Conclusion</h3>\n",
    "\n",
    "In this project, I analyzed user's reviews from BeerAdvocate to find the best beers to recommend. During the analysis I found out:\n",
    "<ol>\n",
    "    <li>\"Schorschbräu\" brewery produces the strongest beer with abv 57.70%, but overall reviews of the strongest beers were not high.</li>\n",
    "    <li>The taste of beer is the most important factor in determining the overall quality with correlation 0.78, the least important factor is appearance.</li>\n",
    "    <li>Typical reviewer tries at least 3 beer styles and wrote 3 reviews. The most preferred and reviewed beer styles include IPA, Stouts, Ale. Low alcohol lagers and regional beer styles are not very popular.</li>\n",
    "    <li>As recommended beers I chose beers with the highest overall scores and at least 5 reviews among 3 best rated beerstyles.</li>"
   ]
  }
 ],
 "metadata": {
  "kernelspec": {
   "display_name": "Python 3",
   "language": "python",
   "name": "python3"
  },
  "language_info": {
   "codemirror_mode": {
    "name": "ipython",
    "version": 3
   },
   "file_extension": ".py",
   "mimetype": "text/x-python",
   "name": "python",
   "nbconvert_exporter": "python",
   "pygments_lexer": "ipython3",
   "version": "3.6.8"
  }
 },
 "nbformat": 4,
 "nbformat_minor": 2
}
